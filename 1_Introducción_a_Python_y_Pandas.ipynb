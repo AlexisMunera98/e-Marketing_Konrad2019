{
  "nbformat": 4,
  "nbformat_minor": 0,
  "metadata": {
    "colab": {
      "name": "1_Introducción_a_Python_y_Pandas.ipynb",
      "provenance": [],
      "toc_visible": true
    },
    "kernelspec": {
      "name": "python3",
      "display_name": "Python 3"
    }
  },
  "cells": [
    {
      "cell_type": "markdown",
      "metadata": {
        "id": "g2mieQa0cFR0",
        "colab_type": "text"
      },
      "source": [
        "# Introducción a Python"
      ]
    },
    {
      "cell_type": "code",
      "metadata": {
        "id": "hKbefJmIbE61",
        "colab_type": "code",
        "outputId": "98ec7b51-59db-473c-b449-9595dce13ec3",
        "colab": {
          "base_uri": "https://localhost:8080/",
          "height": 34
        }
      },
      "source": [
        "print(\"Hola mundo\")"
      ],
      "execution_count": 0,
      "outputs": [
        {
          "output_type": "stream",
          "text": [
            "Hola mundo\n"
          ],
          "name": "stdout"
        }
      ]
    },
    {
      "cell_type": "code",
      "metadata": {
        "id": "R1DcR8A3cjul",
        "colab_type": "code",
        "outputId": "cad2f88f-a938-4b3f-e3a5-59d2d099b40e",
        "colab": {
          "base_uri": "https://localhost:8080/",
          "height": 34
        }
      },
      "source": [
        "2+4/3"
      ],
      "execution_count": 0,
      "outputs": [
        {
          "output_type": "execute_result",
          "data": {
            "text/plain": [
              "3.333333333333333"
            ]
          },
          "metadata": {
            "tags": []
          },
          "execution_count": 2
        }
      ]
    },
    {
      "cell_type": "code",
      "metadata": {
        "id": "NArXxzAycn_E",
        "colab_type": "code",
        "outputId": "890c3418-bc64-4352-aeb1-d254993611dc",
        "colab": {
          "base_uri": "https://localhost:8080/",
          "height": 86
        }
      },
      "source": [
        "mi_lista = [1, 2.5, \"Hola mundo\", [\"esta\", \"es\", \"otra\", \"lista\"]]\n",
        "print(mi_lista[0])\n",
        "print(mi_lista[1])\n",
        "print(mi_lista[-1])\n",
        "print(mi_lista[-1][0])"
      ],
      "execution_count": 0,
      "outputs": [
        {
          "output_type": "stream",
          "text": [
            "1\n",
            "2.5\n",
            "['esta', 'es', 'otra', 'lista']\n",
            "esta\n"
          ],
          "name": "stdout"
        }
      ]
    },
    {
      "cell_type": "markdown",
      "metadata": {
        "id": "_Uln2YIQdCXQ",
        "colab_type": "text"
      },
      "source": [
        "Se puede acceder a los elementos de la lista haciendo cortes de la misma, por ejemplo `mi_lista[i:j]` es una lista que contiene los elementos de `mi_lista` desde el elemento `i` hasta el elemento `j` (NO INCLUSIVO)"
      ]
    },
    {
      "cell_type": "code",
      "metadata": {
        "id": "SSjWQqLJdVia",
        "colab_type": "code",
        "outputId": "0b1d234d-df2a-4895-a823-1ad1c5271a8e",
        "colab": {
          "base_uri": "https://localhost:8080/",
          "height": 34
        }
      },
      "source": [
        "mi_lista[1:3]"
      ],
      "execution_count": 0,
      "outputs": [
        {
          "output_type": "execute_result",
          "data": {
            "text/plain": [
              "[2.5, 'Hola mundo']"
            ]
          },
          "metadata": {
            "tags": []
          },
          "execution_count": 6
        }
      ]
    },
    {
      "cell_type": "markdown",
      "metadata": {
        "id": "jAsqzvq6ee2q",
        "colab_type": "text"
      },
      "source": [
        "Algunas operaciones sobre las listas"
      ]
    },
    {
      "cell_type": "code",
      "metadata": {
        "id": "mf-n2vAAdcVW",
        "colab_type": "code",
        "outputId": "9a0c8153-e4a1-4082-88c5-83b3969e1d04",
        "colab": {
          "base_uri": "https://localhost:8080/",
          "height": 124
        }
      },
      "source": [
        "# Obtener número de elementos:\n",
        "print(len(mi_lista))\n",
        "# Añadir un nuevo elemento:\n",
        "mi_lista.append(\"nuevo elemento\")\n",
        "print(mi_lista, len(mi_lista))\n",
        "# Eliminar un elemento:\n",
        "mi_lista.remove(2.5)\n",
        "print(mi_lista)\n",
        "mi_lista.pop(1)\n",
        "print(mi_lista)\n",
        "# Juntar dos listas:\n",
        "otra_lista = [1, 2, 3, 'python es lo mejor']\n",
        "nueva_lista = mi_lista + otra_lista\n",
        "print(nueva_lista)"
      ],
      "execution_count": 0,
      "outputs": [
        {
          "output_type": "stream",
          "text": [
            "4\n",
            "[1, 2.5, 'Hola mundo', ['esta', 'es', 'otra', 'lista'], 'nuevo elemento'] 5\n",
            "[1, 'Hola mundo', ['esta', 'es', 'otra', 'lista'], 'nuevo elemento']\n",
            "[1, ['esta', 'es', 'otra', 'lista'], 'nuevo elemento']\n",
            "[1, ['esta', 'es', 'otra', 'lista'], 'nuevo elemento', 1, 2, 3, 'python es lo mejor']\n"
          ],
          "name": "stdout"
        }
      ]
    },
    {
      "cell_type": "markdown",
      "metadata": {
        "id": "4cD1w0ANie3F",
        "colab_type": "text"
      },
      "source": [
        "## Condicionales"
      ]
    },
    {
      "cell_type": "code",
      "metadata": {
        "id": "UpQFdCmAihBE",
        "colab_type": "code",
        "outputId": "f36e5a80-7c6c-4906-c231-3fb8f524541a",
        "colab": {
          "base_uri": "https://localhost:8080/",
          "height": 34
        }
      },
      "source": [
        "if len(nueva_lista) >= 10:\n",
        "    print('Qué lista tan grande!')\n",
        "elif len(nueva_lista) >= 8:\n",
        "    print('No es tan grande la lista...')\n",
        "elif len(nueva_lista) >= 4:\n",
        "    print(\"La lista es mediana\")\n",
        "else:\n",
        "    print('Es más bien pequeña...')"
      ],
      "execution_count": 0,
      "outputs": [
        {
          "output_type": "stream",
          "text": [
            "La lista es mediana\n"
          ],
          "name": "stdout"
        }
      ]
    },
    {
      "cell_type": "markdown",
      "metadata": {
        "id": "XIzIz0QZjHoH",
        "colab_type": "text"
      },
      "source": [
        "No es necesario utilizar elif o else... únicamente con un if se puede verificar y accionar una parte del código dada una condición"
      ]
    },
    {
      "cell_type": "code",
      "metadata": {
        "id": "-rc5_aAUi5PQ",
        "colab_type": "code",
        "outputId": "423b3fd9-45a6-4199-c6f9-b6f73c74044b",
        "colab": {
          "base_uri": "https://localhost:8080/",
          "height": 52
        }
      },
      "source": [
        "if 1 < 2:\n",
        "    print('1 es menor que 2')\n",
        "\n",
        "# El condicional de arriba es equivalente al de abajo\n",
        "\n",
        "if 1 < 2:\n",
        "    print('1 es menor que 2')\n",
        "else:\n",
        "    pass  # Significa \"no haga nada\""
      ],
      "execution_count": 0,
      "outputs": [
        {
          "output_type": "stream",
          "text": [
            "1 es menor que 2\n",
            "1 es menor que 2\n"
          ],
          "name": "stdout"
        }
      ]
    },
    {
      "cell_type": "markdown",
      "metadata": {
        "id": "6YVwnhGtgoHZ",
        "colab_type": "text"
      },
      "source": [
        "## Ciclos"
      ]
    },
    {
      "cell_type": "code",
      "metadata": {
        "id": "Ham7NWb9gqPy",
        "colab_type": "code",
        "outputId": "2639847c-dd67-4a3c-be63-9c727c7fd067",
        "colab": {
          "base_uri": "https://localhost:8080/",
          "height": 139
        }
      },
      "source": [
        "# Para cada elemento en un ITERABLE... (listas, tuplas y generadores)\n",
        "for i in nueva_lista:\n",
        "    print(i)"
      ],
      "execution_count": 0,
      "outputs": [
        {
          "output_type": "stream",
          "text": [
            "1\n",
            "['esta', 'es', 'otra', 'lista']\n",
            "nuevo elemento\n",
            "1\n",
            "2\n",
            "3\n",
            "python es lo mejor\n"
          ],
          "name": "stdout"
        }
      ]
    },
    {
      "cell_type": "code",
      "metadata": {
        "id": "IIJJ25u8hD0C",
        "colab_type": "code",
        "outputId": "6def9767-2b6b-4400-b8d8-e9be7867a44a",
        "colab": {
          "base_uri": "https://localhost:8080/",
          "height": 191
        }
      },
      "source": [
        "i = 0\n",
        "\n",
        "for j in range(10):\n",
        "    i = i + 1\n",
        "    print(i)"
      ],
      "execution_count": 0,
      "outputs": [
        {
          "output_type": "stream",
          "text": [
            "1\n",
            "2\n",
            "3\n",
            "4\n",
            "5\n",
            "6\n",
            "7\n",
            "8\n",
            "9\n",
            "10\n"
          ],
          "name": "stdout"
        }
      ]
    },
    {
      "cell_type": "code",
      "metadata": {
        "id": "LCFEr9VShNg_",
        "colab_type": "code",
        "outputId": "c31ce873-3c7c-4a3d-9713-950ac507a1d3",
        "colab": {
          "base_uri": "https://localhost:8080/",
          "height": 121
        }
      },
      "source": [
        "# Mientras una condición sea verdadera...\n",
        "i = 0\n",
        "while i <= 5:\n",
        "    i += 1\n",
        "    print(i)"
      ],
      "execution_count": 0,
      "outputs": [
        {
          "output_type": "stream",
          "text": [
            "1\n",
            "2\n",
            "3\n",
            "4\n",
            "5\n",
            "6\n"
          ],
          "name": "stdout"
        }
      ]
    },
    {
      "cell_type": "markdown",
      "metadata": {
        "id": "IGz3gXQ9j8pj",
        "colab_type": "text"
      },
      "source": [
        "Los comandos `continue` y `break` son muy importantes. Si `break` es ejecutado, se rompe el ciclo que lo contiene. Si `continue` es ejecutado, la siguiente iteración del ciclo se ejecuta."
      ]
    },
    {
      "cell_type": "code",
      "metadata": {
        "id": "_cw8chgSiZZ6",
        "colab_type": "code",
        "outputId": "c4ec7ac2-8263-4307-91fc-0de7b8638044",
        "colab": {
          "base_uri": "https://localhost:8080/",
          "height": 104
        }
      },
      "source": [
        "i = 0\n",
        "while True:\n",
        "    i += 1\n",
        "    if i <= 5:\n",
        "        print(i)\n",
        "        continue\n",
        "    break"
      ],
      "execution_count": 0,
      "outputs": [
        {
          "output_type": "stream",
          "text": [
            "1\n",
            "2\n",
            "3\n",
            "4\n",
            "5\n"
          ],
          "name": "stdout"
        }
      ]
    },
    {
      "cell_type": "markdown",
      "metadata": {
        "id": "VZf5KEcElAUL",
        "colab_type": "text"
      },
      "source": [
        "## Funciones"
      ]
    },
    {
      "cell_type": "code",
      "metadata": {
        "id": "50zhxHHmkSCd",
        "colab_type": "code",
        "outputId": "9539635a-d64c-4325-ff05-9cc07d71c0ee",
        "colab": {
          "base_uri": "https://localhost:8080/",
          "height": 52
        }
      },
      "source": [
        "def mi_primera_funcion(primer_argumento, segundo_argumento):\n",
        "    assert type(primer_argumento) == int\n",
        "    assert type(segundo_argumento) == int\n",
        "    \n",
        "    print(primer_argumento)\n",
        "    result = primer_argumento + segundo_argumento\n",
        "    return result\n",
        "\n",
        "x = mi_primera_funcion(1, 2)\n",
        "print(x)"
      ],
      "execution_count": 0,
      "outputs": [
        {
          "output_type": "stream",
          "text": [
            "1\n",
            "3\n"
          ],
          "name": "stdout"
        }
      ]
    },
    {
      "cell_type": "code",
      "metadata": {
        "id": "XopH_KhNlZZn",
        "colab_type": "code",
        "outputId": "a309ca39-8843-40f6-b3d1-b3a50add5d58",
        "colab": {
          "base_uri": "https://localhost:8080/",
          "height": 34
        }
      },
      "source": [
        "def factorial(x):\n",
        "    if x > 2:\n",
        "        return x * factorial(x-1)\n",
        "    else:\n",
        "        return x\n",
        "\n",
        "print(factorial(4), factorial(5), factorial(20))"
      ],
      "execution_count": 0,
      "outputs": [
        {
          "output_type": "stream",
          "text": [
            "24 120 2432902008176640000\n"
          ],
          "name": "stdout"
        }
      ]
    },
    {
      "cell_type": "code",
      "metadata": {
        "id": "V0ZlqsWVmVDY",
        "colab_type": "code",
        "outputId": "18c6b80f-a565-412a-d9f4-f767073f53f5",
        "colab": {
          "base_uri": "https://localhost:8080/",
          "height": 121
        }
      },
      "source": [
        "def add_to_list(x, el):\n",
        "    result = x + [el]\n",
        "    return result\n",
        "\n",
        "lista = [1, 2, 3]\n",
        "for i in range(4, 10):\n",
        "    lista = add_to_list(lista, i)\n",
        "    print(lista)"
      ],
      "execution_count": 0,
      "outputs": [
        {
          "output_type": "stream",
          "text": [
            "[1, 2, 3, 4]\n",
            "[1, 2, 3, 4, 5]\n",
            "[1, 2, 3, 4, 5, 6]\n",
            "[1, 2, 3, 4, 5, 6, 7]\n",
            "[1, 2, 3, 4, 5, 6, 7, 8]\n",
            "[1, 2, 3, 4, 5, 6, 7, 8, 9]\n"
          ],
          "name": "stdout"
        }
      ]
    },
    {
      "cell_type": "markdown",
      "metadata": {
        "id": "gkiGlPu8m-CH",
        "colab_type": "text"
      },
      "source": [
        "### Ejercicio 1\n",
        "\n",
        "La serie de Fibonacci comienza con los números 1, 1, y el i-ésimo número es el resultado de sumar los dos anteriores, de esta manera la serie sería: 1, 1, 2, 3, 5, 8, ...\n",
        "\n",
        "Escriba una función que devuelva los N primeros números de Fibonacci"
      ]
    },
    {
      "cell_type": "code",
      "metadata": {
        "id": "7rr9Z8Q9m7Fg",
        "colab_type": "code",
        "outputId": "fa3f0cc8-8eb7-43d4-eb85-b63d7bb56898",
        "colab": {
          "base_uri": "https://localhost:8080/",
          "height": 34
        }
      },
      "source": [
        "def fibo(N):\n",
        "    lista = [1, 1]\n",
        "    for i in range(N - 2):\n",
        "        # Una opción:\n",
        "        #lista = add_to_list(lista, lista[i] + lista[i+1])\n",
        "        # Otra opción:\n",
        "        #lista.append(lista[i] + lista[i+1])\n",
        "        # Otra opción:\n",
        "        lista.append(lista[-1] + lista[-2])\n",
        "    return lista\n",
        "\n",
        "print(fibo(15))"
      ],
      "execution_count": 0,
      "outputs": [
        {
          "output_type": "stream",
          "text": [
            "[1, 1, 2, 3, 5, 8, 13, 21, 34, 55, 89, 144, 233, 377, 610]\n"
          ],
          "name": "stdout"
        }
      ]
    },
    {
      "cell_type": "markdown",
      "metadata": {
        "id": "iBE-dE5Qnzys",
        "colab_type": "text"
      },
      "source": [
        "### Ejercicio 2\n",
        "\n",
        "Escriba una función que devuelva el número de elementos en común entre dos listas"
      ]
    },
    {
      "cell_type": "code",
      "metadata": {
        "id": "-H6jhbNtoQsg",
        "colab_type": "code",
        "outputId": "adfe1b96-d86a-4227-8e55-809da1d63ea9",
        "colab": {
          "base_uri": "https://localhost:8080/",
          "height": 34
        }
      },
      "source": [
        "def count_common(lista1, lista2):\n",
        "    #set1 = set(lista1)\n",
        "    #print(set1)\n",
        "    #set2 = set(lista2)\n",
        "    #print(set2)\n",
        "    #intersection = set1.intersection(set2)\n",
        "    # Otra opción\n",
        "    comunes = []\n",
        "    for i in lista1:\n",
        "        for j in lista2:\n",
        "            if i==j and i not in comunes:\n",
        "                comunes.append(i)\n",
        "    return len(comunes)\n",
        "    #return len(intersection)\n",
        "\n",
        "lista_a = [1,2,3,4,4,5]\n",
        "lista_b = [4,5,5,6,7,8]\n",
        "# HAY 2 ELEMENTOS EN COMÚN, EL 4 Y EL 5\n",
        "print(count_common(lista_a, lista_b))"
      ],
      "execution_count": 0,
      "outputs": [
        {
          "output_type": "stream",
          "text": [
            "2\n"
          ],
          "name": "stdout"
        }
      ]
    },
    {
      "cell_type": "markdown",
      "metadata": {
        "id": "auIbHQ9phEMW",
        "colab_type": "text"
      },
      "source": [
        "### Ejercicio 3\n",
        "\n",
        "Escriba una función que calcule la integral de una función escalar de una variable por medio de una aproximación numérica:\n",
        "$$\\int_a^b f(x)dx \\approx \\Delta_N\\sum_{k=1}^N f(a + k\\Delta_N),$$\n",
        "en donde $\\Delta_N$ es el tamaño de uno de los $N$ sub-intervalos uniformes en los que se parte el intervalo $[a,b]$, i.e. $\\Delta_N = (b-a)/N$"
      ]
    },
    {
      "cell_type": "code",
      "metadata": {
        "id": "vvw7Dn4vbr7d",
        "colab_type": "code",
        "outputId": "071e5a77-349a-4b9e-b1b2-8e9da01f99c1",
        "colab": {
          "base_uri": "https://localhost:8080/",
          "height": 86
        }
      },
      "source": [
        "def integrate(f, a, b, N):\n",
        "    DelN = (b - a)/N\n",
        "    integrand = 0\n",
        "    for k in range(N):\n",
        "        integrand += f(a + (k+1)*DelN)\n",
        "    integrand *= DelN\n",
        "    return integrand\n",
        "\n",
        "def fun(x):\n",
        "    return x**2\n",
        "\n",
        "print(integrate(fun, 0, 1, 5))\n",
        "print(integrate(fun, 0, 1, 10))\n",
        "print(integrate(fun, 0, 1, 50))\n",
        "print(integrate(fun, 0, 1, 100))\n",
        "\n",
        "# La integral de x^2 es x^3/3, por lo que integrando\n",
        "# x^2 entre 0 y 1, el resultado de la integral es 1/3"
      ],
      "execution_count": 0,
      "outputs": [
        {
          "output_type": "stream",
          "text": [
            "0.44000000000000006\n",
            "0.38500000000000006\n",
            "0.3434\n",
            "0.33835000000000004\n"
          ],
          "name": "stdout"
        }
      ]
    },
    {
      "cell_type": "markdown",
      "metadata": {
        "id": "sxlj2hILkQ5P",
        "colab_type": "text"
      },
      "source": [
        "## Strings\n",
        "\n",
        "Estas tienen comportamiento similares a las listas"
      ]
    },
    {
      "cell_type": "code",
      "metadata": {
        "id": "5WxVct4PkUoQ",
        "colab_type": "code",
        "outputId": "46dc821a-d64e-4062-c26b-a74fbbbe7a22",
        "colab": {
          "base_uri": "https://localhost:8080/",
          "height": 34
        }
      },
      "source": [
        "print(\"hola \" + \"mundo\")"
      ],
      "execution_count": 0,
      "outputs": [
        {
          "output_type": "stream",
          "text": [
            "hola mundo\n"
          ],
          "name": "stdout"
        }
      ]
    },
    {
      "cell_type": "code",
      "metadata": {
        "id": "1zgfJM6HkdbG",
        "colab_type": "code",
        "outputId": "dd1581f5-106c-42b8-92b9-ae8bdda4017e",
        "colab": {
          "base_uri": "https://localhost:8080/",
          "height": 34
        }
      },
      "source": [
        "print(len(\"vamos a manejar mucho texto\"))"
      ],
      "execution_count": 0,
      "outputs": [
        {
          "output_type": "stream",
          "text": [
            "27\n"
          ],
          "name": "stdout"
        }
      ]
    },
    {
      "cell_type": "code",
      "metadata": {
        "id": "OistgsuIklSU",
        "colab_type": "code",
        "outputId": "f64fea5e-c85d-4b0c-9777-3d7b7df72e89",
        "colab": {
          "base_uri": "https://localhost:8080/",
          "height": 34
        }
      },
      "source": [
        "print(\"y debemos adquirir mucha práctica\"[0:15])"
      ],
      "execution_count": 0,
      "outputs": [
        {
          "output_type": "stream",
          "text": [
            "y debemos adqui\n"
          ],
          "name": "stdout"
        }
      ]
    },
    {
      "cell_type": "code",
      "metadata": {
        "id": "EWZfX-omlAPt",
        "colab_type": "code",
        "outputId": "5170603f-ce96-4351-a271-89f4ef36d25a",
        "colab": {
          "base_uri": "https://localhost:8080/",
          "height": 72
        }
      },
      "source": [
        "mis_caracteres = \"el día de ayer murió joven impactado por el ESMAD en Bogotá\"\n",
        "# Podemos obtener cada palabra en una lista haciendo un split:\n",
        "lista = mis_caracteres.split()\n",
        "print(lista)\n",
        "lista2 = mis_caracteres.split(\"a\")\n",
        "print(lista2)"
      ],
      "execution_count": 0,
      "outputs": [
        {
          "output_type": "stream",
          "text": [
            "['el', 'día', 'de', 'ayer', 'murió', 'joven', 'impactado', 'por', 'el', 'ESMAD', 'en', 'Bogotá']\n",
            "['el dí', ' de ', 'yer murió joven imp', 'ct', 'do por el ESMAD en Bogotá']\n"
          ],
          "name": "stdout"
        }
      ]
    },
    {
      "cell_type": "code",
      "metadata": {
        "id": "09e9eR4ulhqd",
        "colab_type": "code",
        "outputId": "e6405169-84a6-4ede-adf4-0b69c2f1dc77",
        "colab": {
          "base_uri": "https://localhost:8080/",
          "height": 52
        }
      },
      "source": [
        "# Y podemos unir una lista de caracteres en una cadena de caracteres también\n",
        "print(\"_\".join(lista))\n",
        "print(\"BOOM\".join(lista2))"
      ],
      "execution_count": 0,
      "outputs": [
        {
          "output_type": "stream",
          "text": [
            "el_día_de_ayer_murió_joven_impactado_por_el_ESMAD_en_Bogotá\n",
            "el díBOOM de BOOMyer murió joven impBOOMctBOOMdo por el ESMAD en Bogotá\n"
          ],
          "name": "stdout"
        }
      ]
    },
    {
      "cell_type": "code",
      "metadata": {
        "id": "NRU4SNK2l6Xj",
        "colab_type": "code",
        "outputId": "080fddd1-6f11-4f87-eac3-104841d89120",
        "colab": {
          "base_uri": "https://localhost:8080/",
          "height": 34
        }
      },
      "source": [
        "# Asímismo, podemos reemplazar caracteres\n",
        "print(mis_caracteres.replace(\"e\", \"E\"))"
      ],
      "execution_count": 0,
      "outputs": [
        {
          "output_type": "stream",
          "text": [
            "El día dE ayEr murió jovEn impactado por El ESMAD En Bogotá\n"
          ],
          "name": "stdout"
        }
      ]
    },
    {
      "cell_type": "code",
      "metadata": {
        "id": "gJ8M1hu5mTlk",
        "colab_type": "code",
        "outputId": "4c0dde6a-4c18-4991-9a79-609b3281a258",
        "colab": {
          "base_uri": "https://localhost:8080/",
          "height": 34
        }
      },
      "source": [
        "#O también podemos quitar con ese mismo método algunos caracteres:\n",
        "print(mis_caracteres.replace(\"o\", \"\"))"
      ],
      "execution_count": 0,
      "outputs": [
        {
          "output_type": "stream",
          "text": [
            "el día de ayer murió jven impactad pr el ESMAD en Bgtá\n"
          ],
          "name": "stdout"
        }
      ]
    },
    {
      "cell_type": "markdown",
      "metadata": {
        "id": "_djN7zK-k48U",
        "colab_type": "text"
      },
      "source": [
        "También, puede ser muy útil generar formatos o plantillas de texto"
      ]
    },
    {
      "cell_type": "code",
      "metadata": {
        "id": "dHryu7zQkxFf",
        "colab_type": "code",
        "outputId": "59e82d77-d1ae-4579-b03e-91f8d4375931",
        "colab": {
          "base_uri": "https://localhost:8080/",
          "height": 52
        }
      },
      "source": [
        "print(\"Han pasado {0} minutos desde que comenzó la clase {1}\".format('muchos', 'e-Marketing Analytics'))\n",
        "print(\"Han pasado {1} minutos desde que comenzó la clase {0}\".format('muchos', 'e-Marketing Analytics'))"
      ],
      "execution_count": 0,
      "outputs": [
        {
          "output_type": "stream",
          "text": [
            "Han pasado muchos minutos desde que comenzó la clase e-Marketing Analytics\n",
            "Han pasado e-Marketing Analytics minutos desde que comenzó la clase muchos\n"
          ],
          "name": "stdout"
        }
      ]
    },
    {
      "cell_type": "code",
      "metadata": {
        "id": "JvI0gnE3m36i",
        "colab_type": "code",
        "outputId": "4324a414-757c-4ad6-ccbf-c0ab2f5ad961",
        "colab": {
          "base_uri": "https://localhost:8080/",
          "height": 52
        }
      },
      "source": [
        "plantilla = \"El resultado es {0}\"\n",
        "print(plantilla.format(3))\n",
        "print(plantilla.format(5.5))"
      ],
      "execution_count": 0,
      "outputs": [
        {
          "output_type": "stream",
          "text": [
            "El resultado es 3\n",
            "El resultado es 5.5\n"
          ],
          "name": "stdout"
        }
      ]
    },
    {
      "cell_type": "markdown",
      "metadata": {
        "id": "J69cWYeVnJmc",
        "colab_type": "text"
      },
      "source": [
        "### Ejercicio 4\n",
        "\n",
        "Escriba una función que remueva los signos de puntuación \"! ? , . : ;\" y las palabras \"de para cuando\""
      ]
    },
    {
      "cell_type": "code",
      "metadata": {
        "id": "Zt5J-YMunIhX",
        "colab_type": "code",
        "outputId": "59fa230d-db5b-4149-be0f-08f0239fb7d1",
        "colab": {
          "base_uri": "https://localhost:8080/",
          "height": 72
        }
      },
      "source": [
        "def remover(text):\n",
        "    lista = \"! ? , . : ;\".split()\n",
        "    lista2 = \"de para cuando\".split()\n",
        "    print(lista)\n",
        "    texto_lista = text.split()\n",
        "    new_text = []\n",
        "    for palabra in texto_lista:\n",
        "        if palabra not in lista2:\n",
        "            new_text.append(palabra)\n",
        "    text = \" \".join(new_text)\n",
        "    for elem in lista:\n",
        "        text = text.replace(elem, \"\")\n",
        "    return text\n",
        "\n",
        "texto = \"\"\"cuando toca parar para avanzar, paramos para avanzar? no lo sé! como dijo Confucio: tú y yo... estamos locos; aja...\"\"\"\n",
        "print(remover(texto))"
      ],
      "execution_count": 0,
      "outputs": [
        {
          "output_type": "stream",
          "text": [
            "['!', '?', ',', '.', ':', ';']\n",
            "toca parar avanzar paramos avanzar no lo sé como dijo Confucio tú y yo estamos locos aja\n"
          ],
          "name": "stdout"
        }
      ]
    },
    {
      "cell_type": "markdown",
      "metadata": {
        "id": "sYAm4cXFn0W-",
        "colab_type": "text"
      },
      "source": [
        "## Diccionarios\n",
        "\n",
        "Los diccionarios de Python pueden ser extremadamente útiles. Se definen por parejas de campos y valores"
      ]
    },
    {
      "cell_type": "code",
      "metadata": {
        "id": "vVZ1bFqHoMak",
        "colab_type": "code",
        "outputId": "6b58b956-295e-47be-8c16-a8d99b348e79",
        "colab": {
          "base_uri": "https://localhost:8080/",
          "height": 106
        }
      },
      "source": [
        "midic = {\"campo\": \"valor\", \"1\": 1, \"lista\": [1, 2, {\"campo\": \"valor\"}]}\n",
        "print(len(midic))\n",
        "print(midic.keys())\n",
        "print(midic.values())\n",
        "print(midic.items())"
      ],
      "execution_count": 0,
      "outputs": [
        {
          "output_type": "stream",
          "text": [
            "3\n",
            "dict_keys(['campo', '1', 'lista'])\n",
            "dict_values(['valor', 1, [1, 2, {'campo': 'valor'}]])\n",
            "dict_items([('campo', 'valor'), ('1', 1), ('lista', [1, 2, {'campo': 'valor'}])])\n"
          ],
          "name": "stdout"
        }
      ]
    },
    {
      "cell_type": "code",
      "metadata": {
        "id": "7sT_liZVokV8",
        "colab_type": "code",
        "outputId": "73aad7a1-9105-47c8-d97c-1ad4f33d097f",
        "colab": {
          "base_uri": "https://localhost:8080/",
          "height": 69
        }
      },
      "source": [
        "# Podemos iterar sobre los elementos de los diccionarios\n",
        "for key, value in midic.items():\n",
        "    print(key, value)"
      ],
      "execution_count": 0,
      "outputs": [
        {
          "output_type": "stream",
          "text": [
            "campo valor\n",
            "1 1\n",
            "lista [1, 2, {'campo': 'valor'}]\n"
          ],
          "name": "stdout"
        }
      ]
    },
    {
      "cell_type": "code",
      "metadata": {
        "id": "6teyHdcSoved",
        "colab_type": "code",
        "outputId": "f58fa81f-fe63-454b-db28-1fc62b98f6f5",
        "colab": {
          "base_uri": "https://localhost:8080/",
          "height": 34
        }
      },
      "source": [
        "# Podemos eliminar elementos del diccionario.\n",
        "x = midic.pop(\"1\")\n",
        "print(x, midic)\n"
      ],
      "execution_count": 0,
      "outputs": [
        {
          "output_type": "stream",
          "text": [
            "1 {'campo': 'valor', 'lista': [1, 2, {'campo': 'valor'}]}\n"
          ],
          "name": "stdout"
        }
      ]
    },
    {
      "cell_type": "code",
      "metadata": {
        "id": "xzLdo2Qso7JZ",
        "colab_type": "code",
        "outputId": "eae295f8-740b-433b-a145-645a32f2a091",
        "colab": {
          "base_uri": "https://localhost:8080/",
          "height": 54
        }
      },
      "source": [
        "# Podemos crear nuevos elementos en el diccionario\n",
        "midic[\"nuevo elemento\"] = 1235123\n",
        "print(midic)"
      ],
      "execution_count": 0,
      "outputs": [
        {
          "output_type": "stream",
          "text": [
            "{'campo': 'valor', 'lista': [1, 2, {'campo': 'valor'}], 'nuevo elemento': 1235123}\n"
          ],
          "name": "stdout"
        }
      ]
    },
    {
      "cell_type": "code",
      "metadata": {
        "id": "XXF4GqqQqZkM",
        "colab_type": "code",
        "outputId": "22253be2-4a2b-44e2-f695-83e4b25c4a5d",
        "colab": {
          "base_uri": "https://localhost:8080/",
          "height": 54
        }
      },
      "source": [
        "# Podemos modificar los elementos:\n",
        "midic[\"nuevo elemento\"] += 1\n",
        "print(midic)"
      ],
      "execution_count": 0,
      "outputs": [
        {
          "output_type": "stream",
          "text": [
            "{'campo': 'valor', 'lista': [1, 2, {'campo': 'valor'}], 'nuevo elemento': 1235124}\n"
          ],
          "name": "stdout"
        }
      ]
    },
    {
      "cell_type": "markdown",
      "metadata": {
        "id": "mkp2hKDQpm2u",
        "colab_type": "text"
      },
      "source": [
        "### Ejercicio 5\n",
        "\n",
        "Escriba una función que tome como entrada un texto y regrese un diccionario en donde los campos sean palabras y en donde los valores sean el número de veces que aparece esa palabra en el texto"
      ]
    },
    {
      "cell_type": "code",
      "metadata": {
        "id": "4hdu20QMpjop",
        "colab_type": "code",
        "colab": {}
      },
      "source": [
        "def count_occurrence(text):\n",
        "    # COMPLETE\n",
        "    palabras = \n",
        "    dicc = {}\n",
        "    for palabra in palabras:\n",
        "        # MIRAR SI LA PALABRA ESTÁ EN EL DICCIONARIO\n",
        "        if ...:\n",
        "            # AUMENTAR LA CUENTA DE LA PALABRA EN EL DICCIONARIO\n",
        "        else:\n",
        "            # CREAR LA PALABRA EN EL DICCIONARIO\n",
        "    return dicc\n",
        "\n",
        "neruda = \"\"\"Puedo escribir los versos más tristes esta noche.\n",
        "Yo la quise, y a veces ella también me quiso.\n",
        "\n",
        "En las noches como ésta la tuve entre mis brazos.\n",
        "La besé tantas veces bajo el cielo infinito.\n",
        "\n",
        "Ella me quiso, a veces yo también la quería.\n",
        "Cómo no haber amado sus grandes ojos fijos.\"\"\".lower()\n",
        "# lower hace que todas las letras sean minúsculas.\n",
        "\n",
        "print(count_occurrence(neruda))"
      ],
      "execution_count": 0,
      "outputs": []
    },
    {
      "cell_type": "markdown",
      "metadata": {
        "id": "fGZcjiausc5s",
        "colab_type": "text"
      },
      "source": [
        "### Ejercicio 6\n",
        "\n",
        "Escriba un programa de Python que tome el pedazo del poema de Neruda y cree un diccionario donde los campos deben llamarse \"token_N\" donde N es un entero de la N-ésima palabra. Por lo tanto el diccionario debería ser así:\n",
        "\n",
        "`{\"token_1\": \"puedo\", \"token_2\": \"escribir\", ...}`"
      ]
    },
    {
      "cell_type": "code",
      "metadata": {
        "id": "hNpa3oEjtA9v",
        "colab_type": "code",
        "colab": {}
      },
      "source": [
        "def tokens(text):\n",
        "    dic = {}\n",
        "    # COMPLETE\n",
        "    palabras = \n",
        "    for palabra in palabras:\n",
        "        # COMPLETE\n",
        "    return dic\n",
        "\n",
        "print(tokens(neruda))"
      ],
      "execution_count": 0,
      "outputs": []
    },
    {
      "cell_type": "markdown",
      "metadata": {
        "id": "WPufM6Bjtjvz",
        "colab_type": "text"
      },
      "source": [
        "# Introducción a pandas\n",
        "\n",
        "View -> Table of Contents -> Files\n",
        "\n",
        "Acá se encuentra la carpeta sample_data"
      ]
    },
    {
      "cell_type": "code",
      "metadata": {
        "id": "qQ9Bghx-tm45",
        "colab_type": "code",
        "colab": {}
      },
      "source": [
        "import pandas as pd"
      ],
      "execution_count": 0,
      "outputs": []
    },
    {
      "cell_type": "code",
      "metadata": {
        "id": "K4sQCZQqtoMi",
        "colab_type": "code",
        "colab": {}
      },
      "source": [
        "# El elemento primordial es un DataFrame\n",
        "df = pd.read_csv(\"sample_data/california_housing_train.csv\")"
      ],
      "execution_count": 0,
      "outputs": []
    },
    {
      "cell_type": "code",
      "metadata": {
        "id": "hC7m4rEht6BN",
        "colab_type": "code",
        "colab": {}
      },
      "source": [
        "df.head()"
      ],
      "execution_count": 0,
      "outputs": []
    },
    {
      "cell_type": "code",
      "metadata": {
        "id": "JlST-5mUuAZA",
        "colab_type": "code",
        "colab": {}
      },
      "source": [
        "df.head(8)"
      ],
      "execution_count": 0,
      "outputs": []
    },
    {
      "cell_type": "code",
      "metadata": {
        "id": "gt409pXMupzB",
        "colab_type": "code",
        "colab": {}
      },
      "source": [
        "df.tail(3)"
      ],
      "execution_count": 0,
      "outputs": []
    },
    {
      "cell_type": "markdown",
      "metadata": {
        "id": "92U4WnE61RY_",
        "colab_type": "text"
      },
      "source": [
        "## Descripción de un DataFrame"
      ]
    },
    {
      "cell_type": "code",
      "metadata": {
        "id": "iOyx9b4Quruv",
        "colab_type": "code",
        "colab": {}
      },
      "source": [
        "# Cuantos registros y cuantos campos hay?\n",
        "df.shape"
      ],
      "execution_count": 0,
      "outputs": []
    },
    {
      "cell_type": "code",
      "metadata": {
        "id": "fnlC4GrJuwuz",
        "colab_type": "code",
        "colab": {}
      },
      "source": [
        "# Los nombres de los campos o columnas del DataFrame\n",
        "df.columns"
      ],
      "execution_count": 0,
      "outputs": []
    },
    {
      "cell_type": "code",
      "metadata": {
        "id": "on2wnbAGuzf9",
        "colab_type": "code",
        "colab": {}
      },
      "source": [
        "# El tipo de datos contenidos en cada columna\n",
        "df.dtypes"
      ],
      "execution_count": 0,
      "outputs": []
    },
    {
      "cell_type": "code",
      "metadata": {
        "id": "ndy8q5gLvDCM",
        "colab_type": "code",
        "colab": {}
      },
      "source": [
        "# Descripción estadística básica\n",
        "df.describe()"
      ],
      "execution_count": 0,
      "outputs": []
    },
    {
      "cell_type": "code",
      "metadata": {
        "id": "A6Vm90AyvPtl",
        "colab_type": "code",
        "colab": {}
      },
      "source": [
        "df['latitude']"
      ],
      "execution_count": 0,
      "outputs": []
    },
    {
      "cell_type": "code",
      "metadata": {
        "id": "owEa-5lgvdhN",
        "colab_type": "code",
        "colab": {}
      },
      "source": [
        "df['latitude'].values"
      ],
      "execution_count": 0,
      "outputs": []
    },
    {
      "cell_type": "markdown",
      "metadata": {
        "id": "PlvioSsHvvys",
        "colab_type": "text"
      },
      "source": [
        "Acá podemos hacer cortes también, como en las listas, y de una manera más interesante..."
      ]
    },
    {
      "cell_type": "code",
      "metadata": {
        "id": "0lP_W57RvlmS",
        "colab_type": "code",
        "colab": {}
      },
      "source": [
        "lat = df['latitude']\n",
        "# Vamos a obtener todas las latitudes superiores a 40\n",
        "print(lat[lat > 40])"
      ],
      "execution_count": 0,
      "outputs": []
    },
    {
      "cell_type": "code",
      "metadata": {
        "id": "EG7KwB5IwDK4",
        "colab_type": "code",
        "colab": {}
      },
      "source": [
        "# Incluso podemos cortar el DataFrame para obtener los registros\n",
        "# cuyas latitudes sean superior a 40\n",
        "df[lat > 40]"
      ],
      "execution_count": 0,
      "outputs": []
    },
    {
      "cell_type": "code",
      "metadata": {
        "id": "djJBo3MZwOzx",
        "colab_type": "code",
        "colab": {}
      },
      "source": [
        "# Podemos tener todas los registros cuyas latitudes estén entre 38 y 40\n",
        "df[(lat < 40) & (lat > 38)]"
      ],
      "execution_count": 0,
      "outputs": []
    },
    {
      "cell_type": "markdown",
      "metadata": {
        "id": "md95Ptx2wtBy",
        "colab_type": "text"
      },
      "source": [
        "### Ejercicio 7\n",
        "\n",
        "Escribir una función que reciba los extremos de un rango de latitud y un rango de longitud y que devuelva el mínimo del número total de habitaciones de los registros encontrados entre esos extremos."
      ]
    },
    {
      "cell_type": "code",
      "metadata": {
        "id": "IfS8Nwp9wifY",
        "colab_type": "code",
        "colab": {}
      },
      "source": [
        "def get_min_tot_rooms(minlat, minlon, maxlat, maxlon, df):\n",
        "    # OBTENER DATAFRAME ÚNICAMENTE CON LOS REGISTROS CUYA LATITUD\n",
        "    # ESTÉ ENTRE MINLAT Y MAXLAT Y CUYA LONGITUD ESTÉ ENTRE\n",
        "    # MINLON Y MAXLON\n",
        "    subdf = \n",
        "    # OBTENER UNA SERIE DE PANDAS ÚNICAMENTE CON LA INFO DEL NÚMERO\n",
        "    # TOTAL DE HABITACIONES\n",
        "    tot_rooms = \n",
        "    return min(tot_rooms.values)\n",
        "\n",
        "print(get_min_tot_rooms(35, -122, 39, -119, df))"
      ],
      "execution_count": 0,
      "outputs": []
    },
    {
      "cell_type": "markdown",
      "metadata": {
        "id": "TyoFzXF41KTZ",
        "colab_type": "text"
      },
      "source": [
        "## Graficas sobre un DataFrame"
      ]
    },
    {
      "cell_type": "code",
      "metadata": {
        "id": "WDaN4SXr1lvk",
        "colab_type": "code",
        "colab": {}
      },
      "source": [
        "import matplotlib.pyplot as plt"
      ],
      "execution_count": 0,
      "outputs": []
    },
    {
      "cell_type": "code",
      "metadata": {
        "id": "0cR9zY1z1esD",
        "colab_type": "code",
        "colab": {}
      },
      "source": [
        "df.hist(\"housing_median_age\", bins=50)"
      ],
      "execution_count": 0,
      "outputs": []
    },
    {
      "cell_type": "code",
      "metadata": {
        "id": "QCoxPfHs3O2B",
        "colab_type": "code",
        "colab": {}
      },
      "source": [
        "for column in df.columns.values:\n",
        "    df.hist(column, bins=50)\n",
        "    plt.title(column)\n",
        "    plt.show()"
      ],
      "execution_count": 0,
      "outputs": []
    },
    {
      "cell_type": "code",
      "metadata": {
        "id": "cXbgSjLw2h08",
        "colab_type": "code",
        "colab": {}
      },
      "source": [
        "plt.plot(df['longitude'], df['latitude'], 'ko')\n",
        "plt.xlabel('longitud')\n",
        "plt.ylabel('latitud')\n",
        "plt.show()"
      ],
      "execution_count": 0,
      "outputs": []
    },
    {
      "cell_type": "markdown",
      "metadata": {
        "id": "jciwXSDk3CJa",
        "colab_type": "text"
      },
      "source": [
        "### Ejercicio 8\n",
        "\n",
        "Para cada par de campos del DataFrame, hacer un plot que en el eje x tenga el primer campo de la pareja, y en el eje y tenga el segundo campo de la pareja. ¿Qué relaciones encuentra entre las variables?"
      ]
    },
    {
      "cell_type": "code",
      "metadata": {
        "id": "jhGRBGUx2oyt",
        "colab_type": "code",
        "colab": {}
      },
      "source": [
        "# COMPLETE"
      ],
      "execution_count": 0,
      "outputs": []
    },
    {
      "cell_type": "markdown",
      "metadata": {
        "id": "2_MwuZhfTJts",
        "colab_type": "text"
      },
      "source": [
        "Podemos también mirar si la DataFrame contiene valores nulos"
      ]
    },
    {
      "cell_type": "code",
      "metadata": {
        "id": "gABi_1F03BZB",
        "colab_type": "code",
        "colab": {}
      },
      "source": [
        "df.isna().sum()"
      ],
      "execution_count": 0,
      "outputs": []
    },
    {
      "cell_type": "markdown",
      "metadata": {
        "id": "L5XKbYZdT7kw",
        "colab_type": "text"
      },
      "source": [
        "## Cargar datasets externos en el equipo local (con Google Colab)\n",
        "\n",
        "Vamos a cargar un archivo que se llama `online_shoppers_intention.csv`. En ella se muestran algunas características de la interacción de distintos usuarios con un portal de ventas en línea durante un año completo. "
      ]
    },
    {
      "cell_type": "code",
      "metadata": {
        "id": "efM5olBBTbya",
        "colab_type": "code",
        "outputId": "3cd70cb0-6688-4406-dae0-38ae6024dfb3",
        "colab": {
          "resources": {
            "http://localhost:8080/nbextensions/google.colab/files.js": {
              "data": "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",
              "ok": true,
              "headers": [
                [
                  "content-type",
                  "application/javascript"
                ]
              ],
              "status": 200,
              "status_text": ""
            }
          },
          "base_uri": "https://localhost:8080/",
          "height": 75
        }
      },
      "source": [
        "from google.colab import files\n",
        "uploaded = files.upload()"
      ],
      "execution_count": 0,
      "outputs": [
        {
          "output_type": "display_data",
          "data": {
            "text/html": [
              "\n",
              "     <input type=\"file\" id=\"files-c3e1b719-433b-4e32-aa20-8093a5896bbf\" name=\"files[]\" multiple disabled />\n",
              "     <output id=\"result-c3e1b719-433b-4e32-aa20-8093a5896bbf\">\n",
              "      Upload widget is only available when the cell has been executed in the\n",
              "      current browser session. Please rerun this cell to enable.\n",
              "      </output>\n",
              "      <script src=\"/nbextensions/google.colab/files.js\"></script> "
            ],
            "text/plain": [
              "<IPython.core.display.HTML object>"
            ]
          },
          "metadata": {
            "tags": []
          }
        },
        {
          "output_type": "stream",
          "text": [
            "Saving online_shoppers_intention.csv to online_shoppers_intention.csv\n"
          ],
          "name": "stdout"
        }
      ]
    },
    {
      "cell_type": "code",
      "metadata": {
        "id": "qjYbrp47UAUu",
        "colab_type": "code",
        "colab": {}
      },
      "source": [
        "df2 = pd.read_csv(\"online_shoppers_intention.csv\")"
      ],
      "execution_count": 0,
      "outputs": []
    },
    {
      "cell_type": "code",
      "metadata": {
        "id": "QBScsAjlU9V4",
        "colab_type": "code",
        "outputId": "83dca97f-76fa-4bc7-da64-336a9ef8fed3",
        "colab": {
          "base_uri": "https://localhost:8080/",
          "height": 224
        }
      },
      "source": [
        "df2.head()"
      ],
      "execution_count": 0,
      "outputs": [
        {
          "output_type": "execute_result",
          "data": {
            "text/html": [
              "<div>\n",
              "<style scoped>\n",
              "    .dataframe tbody tr th:only-of-type {\n",
              "        vertical-align: middle;\n",
              "    }\n",
              "\n",
              "    .dataframe tbody tr th {\n",
              "        vertical-align: top;\n",
              "    }\n",
              "\n",
              "    .dataframe thead th {\n",
              "        text-align: right;\n",
              "    }\n",
              "</style>\n",
              "<table border=\"1\" class=\"dataframe\">\n",
              "  <thead>\n",
              "    <tr style=\"text-align: right;\">\n",
              "      <th></th>\n",
              "      <th>Administrative</th>\n",
              "      <th>Administrative_Duration</th>\n",
              "      <th>Informational</th>\n",
              "      <th>Informational_Duration</th>\n",
              "      <th>ProductRelated</th>\n",
              "      <th>ProductRelated_Duration</th>\n",
              "      <th>BounceRates</th>\n",
              "      <th>ExitRates</th>\n",
              "      <th>PageValues</th>\n",
              "      <th>SpecialDay</th>\n",
              "      <th>Month</th>\n",
              "      <th>OperatingSystems</th>\n",
              "      <th>Browser</th>\n",
              "      <th>Region</th>\n",
              "      <th>TrafficType</th>\n",
              "      <th>VisitorType</th>\n",
              "      <th>Weekend</th>\n",
              "      <th>Revenue</th>\n",
              "    </tr>\n",
              "  </thead>\n",
              "  <tbody>\n",
              "    <tr>\n",
              "      <th>0</th>\n",
              "      <td>0</td>\n",
              "      <td>0.0</td>\n",
              "      <td>0</td>\n",
              "      <td>0.0</td>\n",
              "      <td>1</td>\n",
              "      <td>0.000000</td>\n",
              "      <td>0.20</td>\n",
              "      <td>0.20</td>\n",
              "      <td>0.0</td>\n",
              "      <td>0.0</td>\n",
              "      <td>Feb</td>\n",
              "      <td>1</td>\n",
              "      <td>1</td>\n",
              "      <td>1</td>\n",
              "      <td>1</td>\n",
              "      <td>Returning_Visitor</td>\n",
              "      <td>False</td>\n",
              "      <td>False</td>\n",
              "    </tr>\n",
              "    <tr>\n",
              "      <th>1</th>\n",
              "      <td>0</td>\n",
              "      <td>0.0</td>\n",
              "      <td>0</td>\n",
              "      <td>0.0</td>\n",
              "      <td>2</td>\n",
              "      <td>64.000000</td>\n",
              "      <td>0.00</td>\n",
              "      <td>0.10</td>\n",
              "      <td>0.0</td>\n",
              "      <td>0.0</td>\n",
              "      <td>Feb</td>\n",
              "      <td>2</td>\n",
              "      <td>2</td>\n",
              "      <td>1</td>\n",
              "      <td>2</td>\n",
              "      <td>Returning_Visitor</td>\n",
              "      <td>False</td>\n",
              "      <td>False</td>\n",
              "    </tr>\n",
              "    <tr>\n",
              "      <th>2</th>\n",
              "      <td>0</td>\n",
              "      <td>0.0</td>\n",
              "      <td>0</td>\n",
              "      <td>0.0</td>\n",
              "      <td>1</td>\n",
              "      <td>0.000000</td>\n",
              "      <td>0.20</td>\n",
              "      <td>0.20</td>\n",
              "      <td>0.0</td>\n",
              "      <td>0.0</td>\n",
              "      <td>Feb</td>\n",
              "      <td>4</td>\n",
              "      <td>1</td>\n",
              "      <td>9</td>\n",
              "      <td>3</td>\n",
              "      <td>Returning_Visitor</td>\n",
              "      <td>False</td>\n",
              "      <td>False</td>\n",
              "    </tr>\n",
              "    <tr>\n",
              "      <th>3</th>\n",
              "      <td>0</td>\n",
              "      <td>0.0</td>\n",
              "      <td>0</td>\n",
              "      <td>0.0</td>\n",
              "      <td>2</td>\n",
              "      <td>2.666667</td>\n",
              "      <td>0.05</td>\n",
              "      <td>0.14</td>\n",
              "      <td>0.0</td>\n",
              "      <td>0.0</td>\n",
              "      <td>Feb</td>\n",
              "      <td>3</td>\n",
              "      <td>2</td>\n",
              "      <td>2</td>\n",
              "      <td>4</td>\n",
              "      <td>Returning_Visitor</td>\n",
              "      <td>False</td>\n",
              "      <td>False</td>\n",
              "    </tr>\n",
              "    <tr>\n",
              "      <th>4</th>\n",
              "      <td>0</td>\n",
              "      <td>0.0</td>\n",
              "      <td>0</td>\n",
              "      <td>0.0</td>\n",
              "      <td>10</td>\n",
              "      <td>627.500000</td>\n",
              "      <td>0.02</td>\n",
              "      <td>0.05</td>\n",
              "      <td>0.0</td>\n",
              "      <td>0.0</td>\n",
              "      <td>Feb</td>\n",
              "      <td>3</td>\n",
              "      <td>3</td>\n",
              "      <td>1</td>\n",
              "      <td>4</td>\n",
              "      <td>Returning_Visitor</td>\n",
              "      <td>True</td>\n",
              "      <td>False</td>\n",
              "    </tr>\n",
              "  </tbody>\n",
              "</table>\n",
              "</div>"
            ],
            "text/plain": [
              "   Administrative  Administrative_Duration  ...  Weekend  Revenue\n",
              "0               0                      0.0  ...    False    False\n",
              "1               0                      0.0  ...    False    False\n",
              "2               0                      0.0  ...    False    False\n",
              "3               0                      0.0  ...    False    False\n",
              "4               0                      0.0  ...     True    False\n",
              "\n",
              "[5 rows x 18 columns]"
            ]
          },
          "metadata": {
            "tags": []
          },
          "execution_count": 9
        }
      ]
    },
    {
      "cell_type": "code",
      "metadata": {
        "id": "X8t1739vU-Ni",
        "colab_type": "code",
        "outputId": "e7e138ae-1114-4b50-8092-335fc35fbfbf",
        "colab": {
          "base_uri": "https://localhost:8080/",
          "height": 125
        }
      },
      "source": [
        "df2.columns"
      ],
      "execution_count": 0,
      "outputs": [
        {
          "output_type": "execute_result",
          "data": {
            "text/plain": [
              "Index(['Administrative', 'Administrative_Duration', 'Informational',\n",
              "       'Informational_Duration', 'ProductRelated', 'ProductRelated_Duration',\n",
              "       'BounceRates', 'ExitRates', 'PageValues', 'SpecialDay', 'Month',\n",
              "       'OperatingSystems', 'Browser', 'Region', 'TrafficType', 'VisitorType',\n",
              "       'Weekend', 'Revenue'],\n",
              "      dtype='object')"
            ]
          },
          "metadata": {
            "tags": []
          },
          "execution_count": 10
        }
      ]
    },
    {
      "cell_type": "markdown",
      "metadata": {
        "id": "JLtq8gJd6TF9",
        "colab_type": "text"
      },
      "source": [
        "Las columnas son:\n",
        "\n",
        "| Variable        | Explicación                                                                                                                                                                                           |\n",
        "|-----------------|-------------------------------------------------------------------------------------------------------------------------------------------------------------------------------------------------------|\n",
        "| Administrative  | Número de páginas relacionadas con administración de su cuenta visitadas por el usuario                                                                                                               |\n",
        "| Informational   | Número de páginas sobre el sitio web, información de comunicación y direcciones del sitio web que el usuario visitó                                                                                   |\n",
        "| Product related | Número de páginas relacionadas con productos visitadas por el usuario                                                                                                                                 |\n",
        "| Duration        | Tiempo en segundos que el usuario gastó en cada una de las páginas correspondientes a las anteriores variables                                                                                        |\n",
        "| Bounce rate     | Tasa de veces que usuarios entran a una página y salen sin generar más solicitudes al servidor. Este campo es el promedio del bounce rate de las páginas visitadas por el usuario                     |\n",
        "| Exit rate       | Número de veces que usuarios salen de la sesión en una página dividido entre el número total de vistas de esa página. Este campo es el promedio del exit rate de las páginas visitadas por el usuario |\n",
        "| Page value      | Número de veces que, después de ser vista una página, los usuarios deciden realizar una transacción. Este campo es el promedio del page value de las páginas visitadas por el usuario                 |\n",
        "| Special day     | Métrica de cercanía (1 es muy cercano y 0 lejano) en tiempo a una fecha especial (día de la madre, del padre, de San Valentín, etc) de las sesiones de un usuario en el sitio web                     |\n",
        "\n",
        "y también hay unas variables categóricas:\n",
        "\n",
        "| Variable         | Explicación                                                               |\n",
        "|------------------|---------------------------------------------------------------------------|\n",
        "| OperatingSystems | Índice que identifica el sistema operativo del usuario                    |\n",
        "| Browser          | Índice del navegador del usuario                                          |\n",
        "| Region           | Región geográfica desde donde se conecta el usuario                       |\n",
        "| TrafficType      | Fuente del tráfico del usuario (desde un SMS, un banner, entrada directa) |\n",
        "| VisitorType      | Si el usuario es nuevo, retorna a la página, o ninguno de los anteriores  |\n",
        "| Weekend          | Si la visita del usuario es en un fin de semana o no                      |\n",
        "| Month            | Mes de la visita del usuario                                              |\n",
        "| Revenue          | Índice que identifica si el usuario completó una transacción o no         |\n"
      ]
    },
    {
      "cell_type": "code",
      "metadata": {
        "id": "PnD5ggD4VCQS",
        "colab_type": "code",
        "outputId": "2cbae558-56d9-4422-8dc4-cb57d9645a06",
        "colab": {
          "base_uri": "https://localhost:8080/",
          "height": 359
        }
      },
      "source": [
        "df2.dtypes"
      ],
      "execution_count": 0,
      "outputs": [
        {
          "output_type": "execute_result",
          "data": {
            "text/plain": [
              "Administrative               int64\n",
              "Administrative_Duration    float64\n",
              "Informational                int64\n",
              "Informational_Duration     float64\n",
              "ProductRelated               int64\n",
              "ProductRelated_Duration    float64\n",
              "BounceRates                float64\n",
              "ExitRates                  float64\n",
              "PageValues                 float64\n",
              "SpecialDay                 float64\n",
              "Month                       object\n",
              "OperatingSystems             int64\n",
              "Browser                      int64\n",
              "Region                       int64\n",
              "TrafficType                  int64\n",
              "VisitorType                 object\n",
              "Weekend                       bool\n",
              "Revenue                       bool\n",
              "dtype: object"
            ]
          },
          "metadata": {
            "tags": []
          },
          "execution_count": 11
        }
      ]
    },
    {
      "cell_type": "code",
      "metadata": {
        "id": "OnRd3JmyVh00",
        "colab_type": "code",
        "outputId": "4df3ae37-d1ba-4f04-da65-13d6433acb67",
        "colab": {
          "base_uri": "https://localhost:8080/",
          "height": 359
        }
      },
      "source": [
        "df2.isna().sum()"
      ],
      "execution_count": 0,
      "outputs": [
        {
          "output_type": "execute_result",
          "data": {
            "text/plain": [
              "Administrative             0\n",
              "Administrative_Duration    0\n",
              "Informational              0\n",
              "Informational_Duration     0\n",
              "ProductRelated             0\n",
              "ProductRelated_Duration    0\n",
              "BounceRates                0\n",
              "ExitRates                  0\n",
              "PageValues                 0\n",
              "SpecialDay                 0\n",
              "Month                      0\n",
              "OperatingSystems           0\n",
              "Browser                    0\n",
              "Region                     0\n",
              "TrafficType                0\n",
              "VisitorType                0\n",
              "Weekend                    0\n",
              "Revenue                    0\n",
              "dtype: int64"
            ]
          },
          "metadata": {
            "tags": []
          },
          "execution_count": 12
        }
      ]
    },
    {
      "cell_type": "code",
      "metadata": {
        "id": "SwXYB7RrV-XN",
        "colab_type": "code",
        "outputId": "e5f566ef-4a21-4f19-fcdd-259eb2b4006d",
        "colab": {
          "base_uri": "https://localhost:8080/",
          "height": 179
        }
      },
      "source": [
        "# Ahora podemos contar la ocurrencia de los distintos medicamentos\n",
        "df2['OperatingSystems'].value_counts()"
      ],
      "execution_count": 0,
      "outputs": [
        {
          "output_type": "execute_result",
          "data": {
            "text/plain": [
              "2    6601\n",
              "1    2585\n",
              "3    2555\n",
              "4     478\n",
              "8      79\n",
              "6      19\n",
              "7       7\n",
              "5       6\n",
              "Name: OperatingSystems, dtype: int64"
            ]
          },
          "metadata": {
            "tags": []
          },
          "execution_count": 13
        }
      ]
    },
    {
      "cell_type": "code",
      "metadata": {
        "id": "-unU3mpsXViZ",
        "colab_type": "code",
        "outputId": "1341ff6b-a220-464c-b761-1ce00c5dad71",
        "colab": {
          "base_uri": "https://localhost:8080/",
          "height": 280
        }
      },
      "source": [
        "# Podemos hacer algunas gráficas con estos datos categóricos para visualizarlos mejor:\n",
        "\n",
        "month_freq = df2['Month'].value_counts()\n",
        "month_freq.plot.bar(x=month_freq.index, y=month_freq, rot=45)\n",
        "plt.show()"
      ],
      "execution_count": 0,
      "outputs": [
        {
          "output_type": "display_data",
          "data": {
            "image/png": "[encoded data removed]",
            "text/plain": [
              "<Figure size 432x288 with 1 Axes>"
            ]
          },
          "metadata": {
            "tags": []
          }
        }
      ]
    },
    {
      "cell_type": "code",
      "metadata": {
        "id": "l8wPVJ_CYH1p",
        "colab_type": "code",
        "outputId": "9bb4a86b-2b65-4a64-8c9c-68db93e29868",
        "colab": {
          "base_uri": "https://localhost:8080/",
          "height": 297
        }
      },
      "source": [
        "product_duration = df2[\"ProductRelated_Duration\"].values\n",
        "bounce = df2[\"BounceRates\"].values\n",
        "\n",
        "plt.plot(product_duration, bounce, 'ro', alpha=0.3)\n",
        "plt.xlabel('Duration in product related pages (s)')\n",
        "plt.ylabel('Bounce rates of visited pages')\n",
        "plt.plot()"
      ],
      "execution_count": 0,
      "outputs": [
        {
          "output_type": "execute_result",
          "data": {
            "text/plain": [
              "[]"
            ]
          },
          "metadata": {
            "tags": []
          },
          "execution_count": 18
        },
        {
          "output_type": "display_data",
          "data": {
            "image/png": "[encoded data removed]",
            "text/plain": [
              "<Figure size 432x288 with 1 Axes>"
            ]
          },
          "metadata": {
            "tags": []
          }
        }
      ]
    },
    {
      "cell_type": "code",
      "metadata": {
        "id": "IKD7IqZ6s4iR",
        "colab_type": "code",
        "outputId": "80b96a2a-2534-4fd3-8e39-3f3cbee12e7d",
        "colab": {
          "base_uri": "https://localhost:8080/",
          "height": 317
        }
      },
      "source": [
        "df2.describe()"
      ],
      "execution_count": 0,
      "outputs": [
        {
          "output_type": "execute_result",
          "data": {
            "text/html": [
              "<div>\n",
              "<style scoped>\n",
              "    .dataframe tbody tr th:only-of-type {\n",
              "        vertical-align: middle;\n",
              "    }\n",
              "\n",
              "    .dataframe tbody tr th {\n",
              "        vertical-align: top;\n",
              "    }\n",
              "\n",
              "    .dataframe thead th {\n",
              "        text-align: right;\n",
              "    }\n",
              "</style>\n",
              "<table border=\"1\" class=\"dataframe\">\n",
              "  <thead>\n",
              "    <tr style=\"text-align: right;\">\n",
              "      <th></th>\n",
              "      <th>Administrative</th>\n",
              "      <th>Administrative_Duration</th>\n",
              "      <th>Informational</th>\n",
              "      <th>Informational_Duration</th>\n",
              "      <th>ProductRelated</th>\n",
              "      <th>ProductRelated_Duration</th>\n",
              "      <th>BounceRates</th>\n",
              "      <th>ExitRates</th>\n",
              "      <th>PageValues</th>\n",
              "      <th>SpecialDay</th>\n",
              "      <th>OperatingSystems</th>\n",
              "      <th>Browser</th>\n",
              "      <th>Region</th>\n",
              "      <th>TrafficType</th>\n",
              "    </tr>\n",
              "  </thead>\n",
              "  <tbody>\n",
              "    <tr>\n",
              "      <th>count</th>\n",
              "      <td>12330.000000</td>\n",
              "      <td>12330.000000</td>\n",
              "      <td>12330.000000</td>\n",
              "      <td>12330.000000</td>\n",
              "      <td>12330.000000</td>\n",
              "      <td>12330.000000</td>\n",
              "      <td>12330.000000</td>\n",
              "      <td>12330.000000</td>\n",
              "      <td>12330.000000</td>\n",
              "      <td>12330.000000</td>\n",
              "      <td>12330.000000</td>\n",
              "      <td>12330.000000</td>\n",
              "      <td>12330.000000</td>\n",
              "      <td>12330.000000</td>\n",
              "    </tr>\n",
              "    <tr>\n",
              "      <th>mean</th>\n",
              "      <td>2.315166</td>\n",
              "      <td>80.818611</td>\n",
              "      <td>0.503569</td>\n",
              "      <td>34.472398</td>\n",
              "      <td>31.731468</td>\n",
              "      <td>1194.746220</td>\n",
              "      <td>0.022191</td>\n",
              "      <td>0.043073</td>\n",
              "      <td>5.889258</td>\n",
              "      <td>0.061427</td>\n",
              "      <td>2.124006</td>\n",
              "      <td>2.357097</td>\n",
              "      <td>3.147364</td>\n",
              "      <td>4.069586</td>\n",
              "    </tr>\n",
              "    <tr>\n",
              "      <th>std</th>\n",
              "      <td>3.321784</td>\n",
              "      <td>176.779107</td>\n",
              "      <td>1.270156</td>\n",
              "      <td>140.749294</td>\n",
              "      <td>44.475503</td>\n",
              "      <td>1913.669288</td>\n",
              "      <td>0.048488</td>\n",
              "      <td>0.048597</td>\n",
              "      <td>18.568437</td>\n",
              "      <td>0.198917</td>\n",
              "      <td>0.911325</td>\n",
              "      <td>1.717277</td>\n",
              "      <td>2.401591</td>\n",
              "      <td>4.025169</td>\n",
              "    </tr>\n",
              "    <tr>\n",
              "      <th>min</th>\n",
              "      <td>0.000000</td>\n",
              "      <td>0.000000</td>\n",
              "      <td>0.000000</td>\n",
              "      <td>0.000000</td>\n",
              "      <td>0.000000</td>\n",
              "      <td>0.000000</td>\n",
              "      <td>0.000000</td>\n",
              "      <td>0.000000</td>\n",
              "      <td>0.000000</td>\n",
              "      <td>0.000000</td>\n",
              "      <td>1.000000</td>\n",
              "      <td>1.000000</td>\n",
              "      <td>1.000000</td>\n",
              "      <td>1.000000</td>\n",
              "    </tr>\n",
              "    <tr>\n",
              "      <th>25%</th>\n",
              "      <td>0.000000</td>\n",
              "      <td>0.000000</td>\n",
              "      <td>0.000000</td>\n",
              "      <td>0.000000</td>\n",
              "      <td>7.000000</td>\n",
              "      <td>184.137500</td>\n",
              "      <td>0.000000</td>\n",
              "      <td>0.014286</td>\n",
              "      <td>0.000000</td>\n",
              "      <td>0.000000</td>\n",
              "      <td>2.000000</td>\n",
              "      <td>2.000000</td>\n",
              "      <td>1.000000</td>\n",
              "      <td>2.000000</td>\n",
              "    </tr>\n",
              "    <tr>\n",
              "      <th>50%</th>\n",
              "      <td>1.000000</td>\n",
              "      <td>7.500000</td>\n",
              "      <td>0.000000</td>\n",
              "      <td>0.000000</td>\n",
              "      <td>18.000000</td>\n",
              "      <td>598.936905</td>\n",
              "      <td>0.003112</td>\n",
              "      <td>0.025156</td>\n",
              "      <td>0.000000</td>\n",
              "      <td>0.000000</td>\n",
              "      <td>2.000000</td>\n",
              "      <td>2.000000</td>\n",
              "      <td>3.000000</td>\n",
              "      <td>2.000000</td>\n",
              "    </tr>\n",
              "    <tr>\n",
              "      <th>75%</th>\n",
              "      <td>4.000000</td>\n",
              "      <td>93.256250</td>\n",
              "      <td>0.000000</td>\n",
              "      <td>0.000000</td>\n",
              "      <td>38.000000</td>\n",
              "      <td>1464.157213</td>\n",
              "      <td>0.016813</td>\n",
              "      <td>0.050000</td>\n",
              "      <td>0.000000</td>\n",
              "      <td>0.000000</td>\n",
              "      <td>3.000000</td>\n",
              "      <td>2.000000</td>\n",
              "      <td>4.000000</td>\n",
              "      <td>4.000000</td>\n",
              "    </tr>\n",
              "    <tr>\n",
              "      <th>max</th>\n",
              "      <td>27.000000</td>\n",
              "      <td>3398.750000</td>\n",
              "      <td>24.000000</td>\n",
              "      <td>2549.375000</td>\n",
              "      <td>705.000000</td>\n",
              "      <td>63973.522230</td>\n",
              "      <td>0.200000</td>\n",
              "      <td>0.200000</td>\n",
              "      <td>361.763742</td>\n",
              "      <td>1.000000</td>\n",
              "      <td>8.000000</td>\n",
              "      <td>13.000000</td>\n",
              "      <td>9.000000</td>\n",
              "      <td>20.000000</td>\n",
              "    </tr>\n",
              "  </tbody>\n",
              "</table>\n",
              "</div>"
            ],
            "text/plain": [
              "       Administrative  Administrative_Duration  ...        Region   TrafficType\n",
              "count    12330.000000             12330.000000  ...  12330.000000  12330.000000\n",
              "mean         2.315166                80.818611  ...      3.147364      4.069586\n",
              "std          3.321784               176.779107  ...      2.401591      4.025169\n",
              "min          0.000000                 0.000000  ...      1.000000      1.000000\n",
              "25%          0.000000                 0.000000  ...      1.000000      2.000000\n",
              "50%          1.000000                 7.500000  ...      3.000000      2.000000\n",
              "75%          4.000000                93.256250  ...      4.000000      4.000000\n",
              "max         27.000000              3398.750000  ...      9.000000     20.000000\n",
              "\n",
              "[8 rows x 14 columns]"
            ]
          },
          "metadata": {
            "tags": []
          },
          "execution_count": 19
        }
      ]
    },
    {
      "cell_type": "markdown",
      "metadata": {
        "id": "fl3j9HQxuzHC",
        "colab_type": "text"
      },
      "source": [
        "### Ejercicio 9\n",
        "\n",
        "Haga gráficas x-y de 5 parejas de variables numéricas que usted cree que puedan tener relaciones interesantes. Si encuentra relaciones, explíquelas."
      ]
    },
    {
      "cell_type": "code",
      "metadata": {
        "id": "yfCH77QvtzEB",
        "colab_type": "code",
        "colab": {}
      },
      "source": [
        "# COMPLETE"
      ],
      "execution_count": 0,
      "outputs": []
    },
    {
      "cell_type": "code",
      "metadata": {
        "id": "4WqI0ku2vjcc",
        "colab_type": "code",
        "outputId": "58c90103-7ae1-4183-b206-e277b283d386",
        "colab": {
          "base_uri": "https://localhost:8080/",
          "height": 288
        }
      },
      "source": [
        "# También podemos ver cómo se comportan variables numéricas según el valor que tengan las variables categóricas\n",
        "\n",
        "regiones = set(df2[\"Region\"].values)\n",
        "print(regiones)\n",
        "region_freq = df2['Region'].value_counts()\n",
        "region_freq.plot.bar(x=region_freq.index, y=region_freq, rot=45)\n",
        "plt.show()"
      ],
      "execution_count": 0,
      "outputs": [
        {
          "output_type": "stream",
          "text": [
            "{1, 2, 3, 4, 5, 6, 7, 8, 9}\n"
          ],
          "name": "stdout"
        },
        {
          "output_type": "display_data",
          "data": {
            "image/png": "[encoded data removed]",
            "text/plain": [
              "<Figure size 432x288 with 1 Axes>"
            ]
          },
          "metadata": {
            "tags": []
          }
        }
      ]
    },
    {
      "cell_type": "code",
      "metadata": {
        "id": "rHFvFeExxbb1",
        "colab_type": "code",
        "outputId": "2e697a3e-afb2-4a27-f130-9071a3b1eb52",
        "colab": {
          "base_uri": "https://localhost:8080/",
          "height": 262
        }
      },
      "source": [
        "revenueRate = []\n",
        "for region in regiones:\n",
        "    subdf2 = df2[df2['Region']==region]\n",
        "    revenue_count = subdf2[\"Revenue\"].value_counts()[True] / subdf2[\"Revenue\"].shape[0]\n",
        "    revenueRate.append(revenue_count)\n",
        "    \n",
        "plt.bar(x=list(regiones), height=revenueRate)\n",
        "plt.xticks(list(regiones), labels=list(regiones), rotation='vertical')\n",
        "plt.show()"
      ],
      "execution_count": 0,
      "outputs": [
        {
          "output_type": "display_data",
          "data": {
            "image/png": "[encoded data removed]",
            "text/plain": [
              "<Figure size 432x288 with 1 Axes>"
            ]
          },
          "metadata": {
            "tags": []
          }
        }
      ]
    }
  ]
}