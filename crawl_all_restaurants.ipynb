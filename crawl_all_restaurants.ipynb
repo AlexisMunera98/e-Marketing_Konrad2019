{
 "cells": [
  {
   "cell_type": "code",
   "execution_count": null,
   "metadata": {},
   "outputs": [],
   "source": [
    "from selenium import webdriver\n",
    "from selenium.webdriver.common.keys import Keys\n",
    "from bs4 import BeautifulSoup\n",
    "import time"
   ]
  },
  {
   "cell_type": "code",
   "execution_count": null,
   "metadata": {},
   "outputs": [],
   "source": [
    "template = \"https://domicilios.com/restaurantes/bogota?isOnline=1&channels=pago-online&paymentMethods=112&bt=RESTAURANT&page={0}\"\n",
    "print(template.format(1))\n",
    "print(template.format(1000))"
   ]
  },
  {
   "cell_type": "code",
   "execution_count": null,
   "metadata": {},
   "outputs": [],
   "source": [
    "rest_links = {}\n",
    "driver = webdriver.Chrome(executable_path=\"./chromedriver\")\n",
    "i = 1\n",
    "while True:\n",
    "    driver.get(template.format(i))\n",
    "    i += 1\n",
    "    time.sleep(4)\n",
    "    html = driver.page_source\n",
    "    soup = BeautifulSoup(html, 'html.parser')\n",
    "    restaurantes = soup.find_all(class_=\"restaurantData\")\n",
    "    if len(restaurantes) < 10:\n",
    "        break\n",
    "    for res in restaurantes:\n",
    "        name = res.find(class_=\"arrivalName\").get_text()\n",
    "        try:\n",
    "            link = res.find(\"a\", {\"rel\": \"nofollow\"})[\"href\"]\n",
    "        except:\n",
    "            link = None\n",
    "        rest_links[name] = link\n",
    "driver.quit()"
   ]
  },
  {
   "cell_type": "code",
   "execution_count": null,
   "metadata": {},
   "outputs": [],
   "source": [
    "import pickle\n",
    "\n",
    "with open(\"restaurantes_links.p\", \"wb\") as f:\n",
    "    pickle.dump(rest_links, f)"
   ]
  },
  {
   "cell_type": "code",
   "execution_count": null,
   "metadata": {},
   "outputs": [],
   "source": [
    "rest_links"
   ]
  },
  {
   "cell_type": "code",
   "execution_count": null,
   "metadata": {},
   "outputs": [],
   "source": []
  }
 ],
 "metadata": {
  "kernelspec": {
   "display_name": "Python 3",
   "language": "python",
   "name": "python3"
  },
  "language_info": {
   "codemirror_mode": {
    "name": "ipython",
    "version": 3
   },
   "file_extension": ".py",
   "mimetype": "text/x-python",
   "name": "python",
   "nbconvert_exporter": "python",
   "pygments_lexer": "ipython3",
   "version": "3.7.5"
  }
 },
 "nbformat": 4,
 "nbformat_minor": 2
}
