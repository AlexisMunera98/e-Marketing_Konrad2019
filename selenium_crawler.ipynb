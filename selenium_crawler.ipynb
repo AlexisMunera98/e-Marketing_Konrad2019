{
 "cells": [
  {
   "cell_type": "markdown",
   "metadata": {},
   "source": [
    "# Instala las librerías necesarias:\n",
    "\n",
    "`pip install selenium beautifulsoup4`"
   ]
  },
  {
   "cell_type": "code",
   "execution_count": null,
   "metadata": {},
   "outputs": [],
   "source": [
    "!pip install selenium beautifulsoup4"
   ]
  },
  {
   "cell_type": "markdown",
   "metadata": {},
   "source": [
    "# Instalar Google Chrome en Linux"
   ]
  },
  {
   "cell_type": "code",
   "execution_count": null,
   "metadata": {},
   "outputs": [],
   "source": [
    "!wget https://dl.google.com/linux/direct/google-chrome-stable_current_amd64.deb"
   ]
  },
  {
   "cell_type": "code",
   "execution_count": null,
   "metadata": {},
   "outputs": [],
   "source": [
    "!sudo dpkg -i google-chrome-stable_current_amd64.deb"
   ]
  },
  {
   "cell_type": "markdown",
   "metadata": {},
   "source": [
    "# Bajar ChromeDriver\n",
    "\n",
    "[Acá](https://chromedriver.chromium.org/downloads) puedes encontrar las diferentes versiones de ChromeDriver. Chequea tu versión de google Chrome para bajar el driver correcto"
   ]
  },
  {
   "cell_type": "code",
   "execution_count": null,
   "metadata": {},
   "outputs": [],
   "source": [
    "!google-chrome --version"
   ]
  },
  {
   "cell_type": "code",
   "execution_count": null,
   "metadata": {},
   "outputs": [],
   "source": [
    "!ls"
   ]
  },
  {
   "cell_type": "code",
   "execution_count": null,
   "metadata": {},
   "outputs": [],
   "source": [
    "from selenium import webdriver\n",
    "from selenium.webdriver.common.keys import Keys\n",
    "from bs4 import BeautifulSoup"
   ]
  },
  {
   "cell_type": "code",
   "execution_count": null,
   "metadata": {},
   "outputs": [],
   "source": [
    "driver = webdriver.Chrome(executable_path=\"./chromedriver\")\n",
    "driver.get(\"https://domicilios.com/restaurantes/bogota/ppc-suba-menu?t=comentarios\")"
   ]
  },
  {
   "cell_type": "code",
   "execution_count": null,
   "metadata": {},
   "outputs": [],
   "source": [
    "html = driver.page_source\n",
    "soup = BeautifulSoup(html, 'html.parser')"
   ]
  },
  {
   "cell_type": "code",
   "execution_count": null,
   "metadata": {},
   "outputs": [],
   "source": [
    "info = []\n",
    "for review in soup.select(\"#reviewList > li\"):\n",
    "    text = review.select(\"[itemprop='description']\")[0].get_text()\n",
    "    author = review.select(\"div.small\")[0].get_text()\n",
    "    previousOrders = review.select(\"div.small\")[1][\"title\"].split()[0]\n",
    "    previousReviews = review.select(\"div.small\")[2][\"title\"].split()[0]\n",
    "    date = review.select(\"[itemprop='datePublished']\")[0].get_text()\n",
    "    worstRating = review.select(\"[itemprop='worstRating']\")[0][\"content\"]\n",
    "    ratingValue = review.select(\"[itemprop='ratingValue']\")[0][\"content\"]\n",
    "    bestRating = review.select(\"[itemprop='bestRating']\")[0][\"content\"]\n",
    "    infoReview = dict(text=text, author=author, previousOrders=previousOrders, previousReviews=previousReviews,\n",
    "                     date=date, worstRating=worstRating, ratingValue=ratingValue, bestRating=bestRating)\n",
    "    info.append(infoReview)"
   ]
  },
  {
   "cell_type": "code",
   "execution_count": null,
   "metadata": {},
   "outputs": [],
   "source": [
    "print(info)"
   ]
  },
  {
   "cell_type": "code",
   "execution_count": null,
   "metadata": {},
   "outputs": [],
   "source": [
    "button = driver.find_element_by_css_selector(\"#reviewListContainer > footer > ul > li.arrow.next > button\")\n",
    "print(button.get_attribute(\"data-page\"))\n",
    "button.click()"
   ]
  },
  {
   "cell_type": "code",
   "execution_count": null,
   "metadata": {},
   "outputs": [],
   "source": [
    "driver.quit()"
   ]
  },
  {
   "cell_type": "markdown",
   "metadata": {},
   "source": [
    "# Todo funciona perfecto! :-D\n",
    "\n",
    "Ahora volvamos esto una función para iterar sobre todas las páginas de los comentarios de nuestro restaurante de ejemplo"
   ]
  },
  {
   "cell_type": "code",
   "execution_count": null,
   "metadata": {},
   "outputs": [],
   "source": [
    "import time"
   ]
  },
  {
   "cell_type": "code",
   "execution_count": null,
   "metadata": {},
   "outputs": [],
   "source": [
    "def download_domicilios(website):\n",
    "    driver = webdriver.Chrome(executable_path=\"./chromedriver\")\n",
    "    driver.get(website)\n",
    "    driver.implicitly_wait(100)\n",
    "    html = driver.page_source\n",
    "    soup = BeautifulSoup(html, 'html.parser')\n",
    "    info = []\n",
    "    pages = []\n",
    "    while True:\n",
    "        try:\n",
    "            button = driver.find_element_by_css_selector(\"#reviewListContainer > footer > ul > li.arrow.next > button\")\n",
    "            numPage = button.get_attribute(\"data-page\")\n",
    "            print('Currently at page {0}'.format(numPage))\n",
    "            if numPage in pages:\n",
    "                driver.quit()\n",
    "                raise ValueError(\"numPage {0} was already visited\".format(numPage))\n",
    "            else:\n",
    "                pages.append(numPage)\n",
    "            for review in soup.select(\"#reviewList > li\"):\n",
    "                text = review.select(\"[itemprop='description']\")[0].get_text()\n",
    "                author = review.select(\"div.small\")[0].get_text()\n",
    "                previousOrders = review.select(\"div.small\")[1][\"title\"].split()[0]\n",
    "                previousReviews = review.select(\"div.small\")[2][\"title\"].split()[0]\n",
    "                date = review.select(\"[itemprop='datePublished']\")[0].get_text()\n",
    "                worstRating = review.select(\"[itemprop='worstRating']\")[0][\"content\"]\n",
    "                ratingValue = review.select(\"[itemprop='ratingValue']\")[0][\"content\"]\n",
    "                bestRating = review.select(\"[itemprop='bestRating']\")[0][\"content\"]\n",
    "                infoReview = dict(text=text, author=author, previousOrders=previousOrders, previousReviews=previousReviews,\n",
    "                                 date=date, worstRating=worstRating, ratingValue=ratingValue, bestRating=bestRating)\n",
    "                info.append(infoReview)\n",
    "            time.sleep(3)\n",
    "            button.click()\n",
    "        except Exception as e:\n",
    "            print(e)\n",
    "            break\n",
    "    return info"
   ]
  },
  {
   "cell_type": "code",
   "execution_count": null,
   "metadata": {},
   "outputs": [],
   "source": [
    "info = download_domicilios(\"https://domicilios.com/restaurantes/bogota/ppc-suba-menu?t=comentarios\")"
   ]
  },
  {
   "cell_type": "code",
   "execution_count": null,
   "metadata": {},
   "outputs": [],
   "source": [
    "len(info)"
   ]
  },
  {
   "cell_type": "code",
   "execution_count": null,
   "metadata": {},
   "outputs": [],
   "source": [
    "import json\n",
    "\n",
    "with open(\"ppc_suba_comentarios.json\", \"w\") as f:\n",
    "    json.dump(info, f)"
   ]
  },
  {
   "cell_type": "code",
   "execution_count": null,
   "metadata": {},
   "outputs": [],
   "source": []
  }
 ],
 "metadata": {
  "kernelspec": {
   "display_name": "Python 3",
   "language": "python",
   "name": "python3"
  },
  "language_info": {
   "codemirror_mode": {
    "name": "ipython",
    "version": 3
   },
   "file_extension": ".py",
   "mimetype": "text/x-python",
   "name": "python",
   "nbconvert_exporter": "python",
   "pygments_lexer": "ipython3",
   "version": "3.7.5"
  }
 },
 "nbformat": 4,
 "nbformat_minor": 2
}
