{
 "cells": [
  {
   "cell_type": "markdown",
   "metadata": {},
   "source": [
    "# Instala las librerías necesarias:\n",
    "\n",
    "`pip install selenium beautifulsoup4`"
   ]
  },
  {
   "cell_type": "code",
   "execution_count": 9,
   "metadata": {},
   "outputs": [
    {
     "name": "stdout",
     "output_type": "stream",
     "text": [
      "\u001b[39m\u001b[1mInstalling \u001b[32m\u001b[1mbeautifulsoup4\u001b[39m\u001b[22m…\u001b[39m\u001b[22m\n",
      "\u001b[K\u001b[39m\u001b[1mAdding\u001b[39m\u001b[22m \u001b[32m\u001b[1mbeautifulsoup4\u001b[39m\u001b[22m \u001b[39m\u001b[1mto Pipfile's\u001b[39m\u001b[22m \u001b[31m\u001b[1m[packages]\u001b[39m\u001b[22m\u001b[39m\u001b[1m…\u001b[39m\u001b[22m\n",
      "\u001b[K\u001b[?25h✔ Installation Succeeded\u001b[0m \n",
      "\u001b[31m\u001b[1mPipfile.lock (ca0dcd) out of date, updating to (0b9b67)…\u001b[39m\u001b[22m\n",
      "\u001b[39m\u001b[22mLocking\u001b[39m\u001b[22m \u001b[31m\u001b[22m[dev-packages]\u001b[39m\u001b[22m \u001b[39m\u001b[22mdependencies…\u001b[39m\u001b[22m\n",
      "\u001b[39m\u001b[22mLocking\u001b[39m\u001b[22m \u001b[31m\u001b[22m[packages]\u001b[39m\u001b[22m \u001b[39m\u001b[22mdependencies…\u001b[39m\u001b[22m\n",
      "\u001b[K\u001b[?25h\u001b[32m\u001b[22m✔ Success!\u001b[39m\u001b[22m\u001b[0m \n",
      "\u001b[39m\u001b[1mUpdated Pipfile.lock (ca0dcd)!\u001b[39m\u001b[22m\n",
      "\u001b[39m\u001b[1mInstalling dependencies from Pipfile.lock (ca0dcd)…\u001b[39m\u001b[22m\n",
      "  🐍   \u001b[32m\u001b[1m▉\u001b[39m\u001b[22m\u001b[32m\u001b[1m▉\u001b[39m\u001b[22m\u001b[32m\u001b[1m▉\u001b[39m\u001b[22m\u001b[32m\u001b[1m▉\u001b[39m\u001b[22m\u001b[32m\u001b[1m▉\u001b[39m\u001b[22m\u001b[32m\u001b[1m▉\u001b[39m\u001b[22m\u001b[32m\u001b[1m▉\u001b[39m\u001b[22m\u001b[32m\u001b[1m▉\u001b[39m\u001b[22m\u001b[32m\u001b[1m▉\u001b[39m\u001b[22m\u001b[32m\u001b[1m▉\u001b[39m\u001b[22m\u001b[32m\u001b[1m▉\u001b[39m\u001b[22m\u001b[32m\u001b[1m▉\u001b[39m\u001b[22m\u001b[32m\u001b[1m▉\u001b[39m\u001b[22m\u001b[32m\u001b[1m▉\u001b[39m\u001b[22m\u001b[32m\u001b[1m▉\u001b[39m\u001b[22m\u001b[32m\u001b[1m▉\u001b[39m\u001b[22m\u001b[32m\u001b[1m▉\u001b[39m\u001b[22m\u001b[32m\u001b[1m▉\u001b[39m\u001b[22m\u001b[32m\u001b[1m▉\u001b[39m\u001b[22m\u001b[32m\u001b[1m▉\u001b[39m\u001b[22m\u001b[32m\u001b[1m▉\u001b[39m\u001b[22m\u001b[32m\u001b[1m▉\u001b[39m\u001b[22m\u001b[32m\u001b[1m▉\u001b[39m\u001b[22m\u001b[32m\u001b[1m▉\u001b[39m\u001b[22m\u001b[32m\u001b[1m▉\u001b[39m\u001b[22m\u001b[32m\u001b[1m▉\u001b[39m\u001b[22m\u001b[32m\u001b[1m▉\u001b[39m\u001b[22m\u001b[32m\u001b[1m▉\u001b[39m\u001b[22m\u001b[32m\u001b[1m▉\u001b[39m\u001b[22m\u001b[32m\u001b[1m▉\u001b[39m\u001b[22m\u001b[32m\u001b[1m▉\u001b[39m\u001b[22m\u001b[32m\u001b[1m▉\u001b[39m\u001b[22m 76/76 — \u001b[30m\u001b[22m00:00:12\u001b[39m\u001b[22mmmmmmmmmmmmmmmmmmmmmmmmmmmmmmmm\n",
      "\u001b[0m"
     ]
    }
   ],
   "source": [
    "!pip install selenium beautifulsoup4"
   ]
  },
  {
   "cell_type": "markdown",
   "metadata": {},
   "source": [
    "# Instalar Google Chrome en Linux"
   ]
  },
  {
   "cell_type": "code",
   "execution_count": null,
   "metadata": {},
   "outputs": [],
   "source": [
    "!wget https://dl.google.com/linux/direct/google-chrome-stable_current_amd64.deb"
   ]
  },
  {
   "cell_type": "code",
   "execution_count": null,
   "metadata": {},
   "outputs": [],
   "source": [
    "!sudo dpkg -i google-chrome-stable_current_amd64.deb"
   ]
  },
  {
   "cell_type": "markdown",
   "metadata": {},
   "source": [
    "# Bajar ChromeDriver\n",
    "\n",
    "[Acá](https://chromedriver.chromium.org/downloads) puedes encontrar las diferentes versiones de ChromeDriver. Chequea tu versión de google Chrome para bajar el driver correcto"
   ]
  },
  {
   "cell_type": "code",
   "execution_count": 5,
   "metadata": {},
   "outputs": [
    {
     "name": "stdout",
     "output_type": "stream",
     "text": [
      "Google Chrome 77.0.3865.75 \r\n"
     ]
    }
   ],
   "source": [
    "!google-chrome --version"
   ]
  },
  {
   "cell_type": "code",
   "execution_count": 6,
   "metadata": {},
   "outputs": [
    {
     "name": "stdout",
     "output_type": "stream",
     "text": [
      "'1 - Introducción a Python.ipynb'   geckodriver.log   spider.py\r\n",
      " chromedriver\t\t\t    Pipfile\t      Untitled.ipynb\r\n",
      " chromedriver_linux64.zip\t    Pipfile.lock\r\n",
      " domicilios\t\t\t    review.json\r\n"
     ]
    }
   ],
   "source": [
    "!ls"
   ]
  },
  {
   "cell_type": "code",
   "execution_count": 11,
   "metadata": {},
   "outputs": [],
   "source": [
    "from selenium import webdriver\n",
    "from selenium.webdriver.common.keys import Keys\n",
    "from bs4 import BeautifulSoup"
   ]
  },
  {
   "cell_type": "code",
   "execution_count": 66,
   "metadata": {},
   "outputs": [],
   "source": [
    "driver = webdriver.Chrome(executable_path=\"./chromedriver\")\n",
    "driver.get(\"https://domicilios.com/restaurantes/bogota/ppc-suba-menu?t=comentarios\")"
   ]
  },
  {
   "cell_type": "code",
   "execution_count": 67,
   "metadata": {},
   "outputs": [],
   "source": [
    "html = driver.page_source\n",
    "soup = BeautifulSoup(html, 'html.parser')"
   ]
  },
  {
   "cell_type": "code",
   "execution_count": 68,
   "metadata": {},
   "outputs": [],
   "source": [
    "info = []\n",
    "for review in soup.select(\"#reviewList > li\"):\n",
    "    text = review.select(\"[itemprop='description']\")[0].get_text()\n",
    "    author = review.select(\"div.small\")[0].get_text()\n",
    "    previousOrders = review.select(\"div.small\")[1][\"title\"].split()[0]\n",
    "    previousReviews = review.select(\"div.small\")[2][\"title\"].split()[0]\n",
    "    date = review.select(\"[itemprop='datePublished']\")[0].get_text()\n",
    "    worstRating = review.select(\"[itemprop='worstRating']\")[0][\"content\"]\n",
    "    ratingValue = review.select(\"[itemprop='ratingValue']\")[0][\"content\"]\n",
    "    bestRating = review.select(\"[itemprop='bestRating']\")[0][\"content\"]\n",
    "    infoReview = dict(text=text, author=author, previousOrders=previousOrders, previousReviews=previousReviews,\n",
    "                     date=date, worstRating=worstRating, ratingValue=ratingValue, bestRating=bestRating)\n",
    "    info.append(infoReview)"
   ]
  },
  {
   "cell_type": "code",
   "execution_count": 69,
   "metadata": {},
   "outputs": [
    {
     "name": "stdout",
     "output_type": "stream",
     "text": [
      "[{'text': 'Parecía arroz del día anterior, trasnochado y de mal gusto', 'author': 'Raul fernando', 'previousOrders': '2', 'previousReviews': '0', 'date': '21 sep, 2019', 'worstRating': '1', 'ratingValue': '3.7', 'bestRating': '5'}, {'text': 'El pollo más rico que tiene colombia ❤?❤?', 'author': 'Andres  ramos', 'previousOrders': '25', 'previousReviews': '0', 'date': '25 jul, 2019', 'worstRating': '1', 'ratingValue': '5.0', 'bestRating': '5'}, {'text': 'redimi y cupón de $7.000 y me cobraron la cuenta completa sin el descuento del cupon', 'author': 'Camilo espitia', 'previousOrders': '266', 'previousReviews': '0', 'date': '20 jun, 2019', 'worstRating': '1', 'ratingValue': '4.0', 'bestRating': '5'}, {'text': 'Excelente servicio, el domiciliario es muy respetuoso y amable', 'author': 'Laura sanchez', 'previousOrders': '274', 'previousReviews': '0', 'date': '09 jun, 2019', 'worstRating': '1', 'ratingValue': '5.0', 'bestRating': '5'}, {'text': 'Gratamente Sorprendida, han Mejorado la calidad del servicio ', 'author': 'Luz angela franco gallego', 'previousOrders': '98', 'previousReviews': '0', 'date': '03 jun, 2019', 'worstRating': '1', 'ratingValue': '4.5', 'bestRating': '5'}, {'text': 'Excelente todo. Gracias por leer los comentarios!', 'author': 'Marcela morales', 'previousOrders': '68', 'previousReviews': '0', 'date': '03 jun, 2019', 'worstRating': '1', 'ratingValue': '5.0', 'bestRating': '5'}, {'text': 'Buen servicio.  Un poco demorado en llegar pero es entendible. Podían tener mucho trabajo en esa hora. La comida que me llego muy muy muuuy regular, mal sabor, me hizo daño, no pude comer todo ya que no era agradable el sabor  ', 'author': 'Diego benitez', 'previousOrders': '24', 'previousReviews': '0', 'date': '02 jun, 2019', 'worstRating': '1', 'ratingValue': '2.0', 'bestRating': '5'}, {'text': 'llego muy tarde y fuera de todo incompleto', 'author': '7856194_name', 'previousOrders': '220', 'previousReviews': '0', 'date': '01 jun, 2019', 'worstRating': '1', 'ratingValue': '3.0', 'bestRating': '5'}, {'text': 'No cumplió Con El Tiempo Mostrado En El Momento De La Compra. ', 'author': 'Jaris meza cantillo', 'previousOrders': '15', 'previousReviews': '0', 'date': '01 jun, 2019', 'worstRating': '1', 'ratingValue': '3.5', 'bestRating': '5'}, {'text': 'No ayudan a solucionar ', 'author': 'Andrea martinez', 'previousOrders': '27', 'previousReviews': '0', 'date': '01 jun, 2019', 'worstRating': '1', 'ratingValue': '2.5', 'bestRating': '5'}]\n"
     ]
    }
   ],
   "source": [
    "print(info)"
   ]
  },
  {
   "cell_type": "code",
   "execution_count": 82,
   "metadata": {},
   "outputs": [
    {
     "name": "stdout",
     "output_type": "stream",
     "text": [
      "2\n"
     ]
    }
   ],
   "source": [
    "button = driver.find_element_by_css_selector(\"#reviewListContainer > footer > ul > li.arrow.next > button\")\n",
    "print(button.get_attribute(\"data-page\"))\n",
    "button.click()"
   ]
  },
  {
   "cell_type": "code",
   "execution_count": 59,
   "metadata": {},
   "outputs": [],
   "source": [
    "driver.quit()"
   ]
  },
  {
   "cell_type": "markdown",
   "metadata": {},
   "source": [
    "# Todo funciona perfecto! :-D\n",
    "\n",
    "Ahora volvamos esto una función para iterar sobre todas las páginas de los comentarios de nuestro restaurante de ejemplo"
   ]
  },
  {
   "cell_type": "code",
   "execution_count": 63,
   "metadata": {},
   "outputs": [],
   "source": [
    "import time"
   ]
  },
  {
   "cell_type": "code",
   "execution_count": 85,
   "metadata": {},
   "outputs": [],
   "source": [
    "def download_domicilios(website):\n",
    "    driver = webdriver.Chrome(executable_path=\"./chromedriver\")\n",
    "    driver.get(website)\n",
    "    driver.implicitly_wait(100)\n",
    "    html = driver.page_source\n",
    "    soup = BeautifulSoup(html, 'html.parser')\n",
    "    info = []\n",
    "    pages = []\n",
    "    while True:\n",
    "        try:\n",
    "            button = driver.find_element_by_css_selector(\"#reviewListContainer > footer > ul > li.arrow.next > button\")\n",
    "            numPage = button.get_attribute(\"data-page\")\n",
    "            print('Currently at page {0}'.format(numPage))\n",
    "            if numPage in pages:\n",
    "                driver.quit()\n",
    "                raise ValueError(\"numPage {0} was already visited\".format(numPage))\n",
    "            else:\n",
    "                pages.append(numPage)\n",
    "            for review in soup.select(\"#reviewList > li\"):\n",
    "                text = review.select(\"[itemprop='description']\")[0].get_text()\n",
    "                author = review.select(\"div.small\")[0].get_text()\n",
    "                previousOrders = review.select(\"div.small\")[1][\"title\"].split()[0]\n",
    "                previousReviews = review.select(\"div.small\")[2][\"title\"].split()[0]\n",
    "                date = review.select(\"[itemprop='datePublished']\")[0].get_text()\n",
    "                worstRating = review.select(\"[itemprop='worstRating']\")[0][\"content\"]\n",
    "                ratingValue = review.select(\"[itemprop='ratingValue']\")[0][\"content\"]\n",
    "                bestRating = review.select(\"[itemprop='bestRating']\")[0][\"content\"]\n",
    "                infoReview = dict(text=text, author=author, previousOrders=previousOrders, previousReviews=previousReviews,\n",
    "                                 date=date, worstRating=worstRating, ratingValue=ratingValue, bestRating=bestRating)\n",
    "                info.append(infoReview)\n",
    "            time.sleep(3)\n",
    "            button.click()\n",
    "        except Exception as e:\n",
    "            print(e)\n",
    "            break\n",
    "    return info"
   ]
  },
  {
   "cell_type": "code",
   "execution_count": 86,
   "metadata": {},
   "outputs": [
    {
     "name": "stdout",
     "output_type": "stream",
     "text": [
      "Currently at page 2\n",
      "Currently at page 3\n",
      "Currently at page 4\n",
      "Currently at page 5\n",
      "Currently at page 6\n",
      "Currently at page 7\n",
      "Currently at page 8\n",
      "Currently at page 9\n",
      "Currently at page 10\n",
      "Currently at page 11\n",
      "Currently at page 12\n",
      "Currently at page 13\n",
      "Currently at page 14\n",
      "Currently at page 15\n",
      "Currently at page 16\n",
      "Currently at page 17\n",
      "Currently at page 18\n",
      "Currently at page 19\n",
      "Currently at page 20\n",
      "Currently at page 21\n",
      "Currently at page 22\n",
      "Currently at page 23\n",
      "Currently at page 24\n",
      "Currently at page 25\n",
      "Currently at page 26\n",
      "Currently at page 27\n",
      "Currently at page 28\n",
      "Currently at page 29\n",
      "Currently at page 30\n",
      "Currently at page 31\n",
      "Currently at page 32\n",
      "Currently at page 33\n",
      "Currently at page 34\n",
      "Currently at page 35\n",
      "Currently at page 36\n",
      "Currently at page 37\n",
      "Currently at page 38\n",
      "Currently at page 39\n",
      "Currently at page 40\n",
      "Currently at page 41\n",
      "Currently at page 42\n",
      "Currently at page 43\n",
      "Currently at page 44\n",
      "Currently at page 45\n",
      "Currently at page 46\n",
      "Currently at page 47\n",
      "Currently at page 48\n",
      "Currently at page 49\n",
      "Currently at page 50\n",
      "Currently at page 51\n",
      "Currently at page 52\n",
      "Currently at page 53\n",
      "Currently at page 54\n",
      "Currently at page 55\n",
      "Currently at page 56\n",
      "Currently at page 57\n",
      "Currently at page 58\n",
      "Currently at page 59\n",
      "Currently at page 60\n",
      "Currently at page 61\n",
      "Currently at page 62\n",
      "Currently at page 63\n",
      "Currently at page 64\n",
      "Currently at page 65\n",
      "Currently at page 66\n",
      "Currently at page 67\n",
      "Currently at page 68\n",
      "Currently at page 69\n",
      "Currently at page 70\n",
      "Currently at page 71\n",
      "Currently at page 72\n",
      "Currently at page 73\n",
      "Currently at page 74\n",
      "Currently at page 75\n",
      "Currently at page 76\n",
      "Currently at page 77\n",
      "Currently at page 78\n",
      "Currently at page 79\n",
      "Currently at page 80\n",
      "Currently at page 81\n",
      "Currently at page 82\n",
      "Currently at page 83\n",
      "Currently at page 84\n",
      "Currently at page 85\n",
      "Currently at page 86\n",
      "Currently at page 87\n",
      "Currently at page 88\n",
      "Currently at page 89\n",
      "Currently at page 90\n",
      "Currently at page 91\n",
      "Currently at page 92\n",
      "Currently at page 93\n",
      "Currently at page 94\n",
      "Currently at page 95\n",
      "Currently at page 96\n",
      "Currently at page 97\n",
      "Currently at page 98\n",
      "Currently at page 99\n",
      "Currently at page 100\n",
      "Currently at page 101\n",
      "Currently at page 102\n",
      "Currently at page 103\n",
      "Currently at page 104\n",
      "Currently at page 105\n",
      "Currently at page 106\n",
      "Currently at page 107\n",
      "Currently at page 108\n",
      "Currently at page 109\n",
      "Currently at page 110\n",
      "Currently at page 111\n",
      "Currently at page 112\n",
      "Currently at page 113\n",
      "Currently at page 114\n",
      "Currently at page 115\n",
      "Currently at page 116\n",
      "Currently at page 117\n",
      "Currently at page 118\n",
      "Message: no such element: Unable to locate element: {\"method\":\"css selector\",\"selector\":\"#reviewListContainer > footer > ul > li.arrow.next > button\"}\n",
      "  (Session info: chrome=77.0.3865.75)\n",
      "\n"
     ]
    }
   ],
   "source": [
    "info = download_domicilios(\"https://domicilios.com/restaurantes/bogota/ppc-suba-menu?t=comentarios\")"
   ]
  },
  {
   "cell_type": "code",
   "execution_count": 87,
   "metadata": {},
   "outputs": [
    {
     "data": {
      "text/plain": [
       "1170"
      ]
     },
     "execution_count": 87,
     "metadata": {},
     "output_type": "execute_result"
    }
   ],
   "source": [
    "len(info)"
   ]
  },
  {
   "cell_type": "code",
   "execution_count": 88,
   "metadata": {},
   "outputs": [],
   "source": [
    "import json\n",
    "\n",
    "with open(\"ppc_suba_comentarios.json\", \"w\") as f:\n",
    "    json.dump(info, f)"
   ]
  },
  {
   "cell_type": "code",
   "execution_count": null,
   "metadata": {},
   "outputs": [],
   "source": []
  }
 ],
 "metadata": {
  "kernelspec": {
   "display_name": "Python 3",
   "language": "python",
   "name": "python3"
  },
  "language_info": {
   "codemirror_mode": {
    "name": "ipython",
    "version": 3
   },
   "file_extension": ".py",
   "mimetype": "text/x-python",
   "name": "python",
   "nbconvert_exporter": "python",
   "pygments_lexer": "ipython3",
   "version": "3.7.5"
  }
 },
 "nbformat": 4,
 "nbformat_minor": 2
}
