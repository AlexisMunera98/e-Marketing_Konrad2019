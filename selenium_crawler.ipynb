{
 "cells": [
  {
   "cell_type": "markdown",
   "metadata": {},
   "source": [
    "# Instala las librerías necesarias:\n",
    "\n",
    "`pip install selenium beautifulsoup4`"
   ]
  },
  {
   "cell_type": "code",
   "execution_count": null,
   "metadata": {},
   "outputs": [],
   "source": [
    "!pip install selenium beautifulsoup4"
   ]
  },
  {
   "cell_type": "markdown",
   "metadata": {},
   "source": [
    "# Instalar Google Chrome en Linux"
   ]
  },
  {
   "cell_type": "code",
   "execution_count": null,
   "metadata": {},
   "outputs": [],
   "source": [
    "!wget https://dl.google.com/linux/direct/google-chrome-stable_current_amd64.deb"
   ]
  },
  {
   "cell_type": "code",
   "execution_count": null,
   "metadata": {},
   "outputs": [],
   "source": [
    "!sudo dpkg -i google-chrome-stable_current_amd64.deb"
   ]
  },
  {
   "cell_type": "markdown",
   "metadata": {},
   "source": [
    "# Bajar ChromeDriver\n",
    "\n",
    "[Acá](https://chromedriver.chromium.org/downloads) puedes encontrar las diferentes versiones de ChromeDriver. Chequea tu versión de google Chrome para bajar el driver correcto"
   ]
  },
  {
   "cell_type": "code",
   "execution_count": null,
   "metadata": {},
   "outputs": [],
   "source": [
    "!google-chrome --version"
   ]
  },
  {
   "cell_type": "code",
   "execution_count": null,
   "metadata": {},
   "outputs": [],
   "source": [
    "!ls"
   ]
  },
  {
   "cell_type": "code",
   "execution_count": 24,
   "metadata": {},
   "outputs": [],
   "source": [
    "from selenium import webdriver\n",
    "from selenium.webdriver.common.keys import Keys\n",
    "from bs4 import BeautifulSoup"
   ]
  },
  {
   "cell_type": "code",
   "execution_count": 25,
   "metadata": {},
   "outputs": [],
   "source": [
    "driver = webdriver.Chrome(executable_path=\"./chromedriver\")\n",
    "driver.get(\"https://domicilios.com/restaurantes/bogota/ppc-suba-menu?t=comentarios\")"
   ]
  },
  {
   "cell_type": "code",
   "execution_count": 26,
   "metadata": {},
   "outputs": [],
   "source": [
    "html = driver.page_source\n",
    "soup = BeautifulSoup(html, 'html.parser')"
   ]
  },
  {
   "cell_type": "code",
   "execution_count": 27,
   "metadata": {},
   "outputs": [],
   "source": [
    "info = []\n",
    "for review in soup.select(\"#reviewList > li\"):\n",
    "    text = review.select(\"[itemprop='description']\")[0].get_text()\n",
    "    author = review.select(\"div.small\")[0].get_text()\n",
    "    previousOrders = review.select(\"div.small\")[1][\"title\"].split()[0]\n",
    "    previousReviews = review.select(\"div.small\")[2][\"title\"].split()[0]\n",
    "    date = review.select(\"[itemprop='datePublished']\")[0].get_text()\n",
    "    worstRating = review.select(\"[itemprop='worstRating']\")[0][\"content\"]\n",
    "    ratingValue = review.select(\"[itemprop='ratingValue']\")[0][\"content\"]\n",
    "    bestRating = review.select(\"[itemprop='bestRating']\")[0][\"content\"]\n",
    "    infoReview = dict(text=text, author=author, previousOrders=previousOrders, previousReviews=previousReviews,\n",
    "                     date=date, worstRating=worstRating, ratingValue=ratingValue, bestRating=bestRating)\n",
    "    info.append(infoReview)"
   ]
  },
  {
   "cell_type": "code",
   "execution_count": 28,
   "metadata": {
    "scrolled": true
   },
   "outputs": [
    {
     "name": "stdout",
     "output_type": "stream",
     "text": [
      "[{'text': 'Parecía arroz del día anterior, trasnochado y de mal gusto', 'author': 'Raul fernando', 'previousOrders': '2', 'previousReviews': '0', 'date': '21 sep, 2019', 'worstRating': '1', 'ratingValue': '3.7', 'bestRating': '5'}, {'text': 'El pollo más rico que tiene colombia ❤?❤?', 'author': 'Andres  ramos', 'previousOrders': '25', 'previousReviews': '0', 'date': '25 jul, 2019', 'worstRating': '1', 'ratingValue': '5.0', 'bestRating': '5'}, {'text': 'redimi y cupón de $7.000 y me cobraron la cuenta completa sin el descuento del cupon', 'author': 'Camilo espitia', 'previousOrders': '266', 'previousReviews': '0', 'date': '20 jun, 2019', 'worstRating': '1', 'ratingValue': '4.0', 'bestRating': '5'}, {'text': 'Excelente servicio, el domiciliario es muy respetuoso y amable', 'author': 'Laura sanchez', 'previousOrders': '274', 'previousReviews': '0', 'date': '09 jun, 2019', 'worstRating': '1', 'ratingValue': '5.0', 'bestRating': '5'}, {'text': 'Gratamente Sorprendida, han Mejorado la calidad del servicio ', 'author': 'Luz angela franco gallego', 'previousOrders': '98', 'previousReviews': '0', 'date': '03 jun, 2019', 'worstRating': '1', 'ratingValue': '4.5', 'bestRating': '5'}, {'text': 'Excelente todo. Gracias por leer los comentarios!', 'author': 'Marcela morales', 'previousOrders': '69', 'previousReviews': '0', 'date': '03 jun, 2019', 'worstRating': '1', 'ratingValue': '5.0', 'bestRating': '5'}, {'text': 'Buen servicio.  Un poco demorado en llegar pero es entendible. Podían tener mucho trabajo en esa hora. La comida que me llego muy muy muuuy regular, mal sabor, me hizo daño, no pude comer todo ya que no era agradable el sabor  ', 'author': 'Diego benitez', 'previousOrders': '24', 'previousReviews': '0', 'date': '02 jun, 2019', 'worstRating': '1', 'ratingValue': '2.0', 'bestRating': '5'}, {'text': 'llego muy tarde y fuera de todo incompleto', 'author': '7856194_name', 'previousOrders': '220', 'previousReviews': '0', 'date': '01 jun, 2019', 'worstRating': '1', 'ratingValue': '3.0', 'bestRating': '5'}, {'text': 'No cumplió Con El Tiempo Mostrado En El Momento De La Compra. ', 'author': 'Jaris meza cantillo', 'previousOrders': '15', 'previousReviews': '0', 'date': '01 jun, 2019', 'worstRating': '1', 'ratingValue': '3.5', 'bestRating': '5'}, {'text': 'No ayudan a solucionar ', 'author': 'Andrea martinez', 'previousOrders': '27', 'previousReviews': '0', 'date': '01 jun, 2019', 'worstRating': '1', 'ratingValue': '2.5', 'bestRating': '5'}]\n"
     ]
    }
   ],
   "source": [
    "print(info)"
   ]
  },
  {
   "cell_type": "code",
   "execution_count": 29,
   "metadata": {},
   "outputs": [
    {
     "name": "stdout",
     "output_type": "stream",
     "text": [
      "2\n"
     ]
    }
   ],
   "source": [
    "button = driver.find_element_by_css_selector(\"#reviewListContainer > footer > ul > li.arrow.next > button\")\n",
    "print(button.get_attribute(\"data-page\"))\n",
    "button.click()"
   ]
  },
  {
   "cell_type": "code",
   "execution_count": 30,
   "metadata": {},
   "outputs": [],
   "source": [
    "driver.quit()"
   ]
  },
  {
   "cell_type": "markdown",
   "metadata": {},
   "source": [
    "# Todo funciona perfecto! :-D\n",
    "\n",
    "Ahora volvamos esto una función para iterar sobre todas las páginas de los comentarios de nuestro restaurante de ejemplo"
   ]
  },
  {
   "cell_type": "code",
   "execution_count": 31,
   "metadata": {},
   "outputs": [],
   "source": [
    "import time"
   ]
  },
  {
   "cell_type": "code",
   "execution_count": 32,
   "metadata": {},
   "outputs": [],
   "source": [
    "def download_domicilios(website):\n",
    "    driver = webdriver.Chrome(executable_path=\"./chromedriver\")\n",
    "    driver.get(website)\n",
    "    driver.implicitly_wait(100)\n",
    "    html = driver.page_source\n",
    "    soup = BeautifulSoup(html, 'html.parser')\n",
    "    info = []\n",
    "    pages = []\n",
    "    while True:\n",
    "        try:\n",
    "            button = driver.find_element_by_css_selector(\"#reviewListContainer > footer > ul > li.arrow.next > button\")\n",
    "            numPage = button.get_attribute(\"data-page\")\n",
    "            print('Currently at page {0}'.format(numPage))\n",
    "            if numPage in pages:\n",
    "                driver.quit()\n",
    "                raise ValueError(\"numPage {0} was already visited\".format(numPage))\n",
    "            else:\n",
    "                pages.append(numPage)\n",
    "            for review in soup.select(\"#reviewList > li\"):\n",
    "                text = review.select(\"[itemprop='description']\")[0].get_text()\n",
    "                author = review.select(\"div.small\")[0].get_text()\n",
    "                previousOrders = review.select(\"div.small\")[1][\"title\"].split()[0]\n",
    "                previousReviews = review.select(\"div.small\")[2][\"title\"].split()[0]\n",
    "                date = review.select(\"[itemprop='datePublished']\")[0].get_text()\n",
    "                worstRating = review.select(\"[itemprop='worstRating']\")[0][\"content\"]\n",
    "                ratingValue = review.select(\"[itemprop='ratingValue']\")[0][\"content\"]\n",
    "                bestRating = review.select(\"[itemprop='bestRating']\")[0][\"content\"]\n",
    "                infoReview = dict(text=text, author=author, previousOrders=previousOrders, previousReviews=previousReviews,\n",
    "                                 date=date, worstRating=worstRating, ratingValue=ratingValue, bestRating=bestRating)\n",
    "                info.append(infoReview)\n",
    "            time.sleep(3)\n",
    "            button.click()\n",
    "        except Exception as e:\n",
    "            print(e)\n",
    "            break\n",
    "    return info"
   ]
  },
  {
   "cell_type": "code",
   "execution_count": 42,
   "metadata": {},
   "outputs": [],
   "source": [
    "def download_domicilios_all():\n",
    "    url = \"https://domicilios.com/restaurantes/bogota\"\n",
    "    driver = webdriver.Chrome(executable_path=\"./chromedriver\")\n",
    "    driver.get(website)\n",
    "    driver.implicitly_wait(100)\n",
    "    html = driver.page_source\n",
    "    soup = BeautifulSoup(html, 'html.parser')\n",
    "    info = []\n",
    "    pages = []\n",
    "    while True:\n",
    "        try:\n",
    "            html = driver.page_source\n",
    "            soup = BeautifulSoup(html, 'html.parser')\n",
    "            button = driver.find_element_by_css_selector(\"#reviewListContainer > footer > ul > li.arrow.next > button\")\n",
    "            street_input = driver.find_element_by_css_selector(\"#street\")\n",
    "            street_input = driver.find_element_by_css_selector(\"#corner\")\n",
    "            street_input = driver.find_element_by_css_selector(\"#number\")\n",
    "            numPage = button.get_attribute(\"data-page\")\n",
    "            print('Currently at page {0}'.format(numPage))\n",
    "            if numPage) > 5:\n",
    "                driver.quit()\n",
    "                raise ValueError(\"numPage {0} was already visited\".format(numPage))\n",
    "            else:\n",
    "                pages.append(numPage)\n",
    "            for review in soup.select(\"#reviewList > li\"):\n",
    "                text = review.select(\"[itemprop='description']\")[0].get_text()\n",
    "                author = review.select(\"div.small\")[0].get_text()\n",
    "                previousOrders = review.select(\"div.small\")[1][\"title\"].split()[0]\n",
    "                previousReviews = review.select(\"div.small\")[2][\"title\"].split()[0]\n",
    "                date = review.select(\"[itemprop='datePublished']\")[0].get_text()\n",
    "                worstRating = review.select(\"[itemprop='worstRating']\")[0][\"content\"]\n",
    "                ratingValue = review.select(\"[itemprop='ratingValue']\")[0][\"content\"]\n",
    "                bestRating = review.select(\"[itemprop='bestRating']\")[0][\"content\"]\n",
    "                infoReview = dict(text=text, author=author, previousOrders=previousOrders, previousReviews=previousReviews,\n",
    "                                 date=date, worstRating=worstRating, ratingValue=ratingValue, bestRating=bestRating)\n",
    "                info.append(infoReview)\n",
    "            time.sleep(3)\n",
    "            button.click()\n",
    "        except Exception as e:\n",
    "            print(e)\n",
    "            break\n",
    "    return info"
   ]
  },
  {
   "cell_type": "code",
   "execution_count": null,
   "metadata": {},
   "outputs": [],
   "source": [
    "info = download_domicilios(\"https://domicilios.com/restaurantes/bogota/ppc-suba-menu?t=comentarios\")"
   ]
  },
  {
   "cell_type": "code",
   "execution_count": 40,
   "metadata": {},
   "outputs": [
    {
     "data": {
      "text/plain": [
       "1170"
      ]
     },
     "execution_count": 40,
     "metadata": {},
     "output_type": "execute_result"
    }
   ],
   "source": [
    "len(info)"
   ]
  },
  {
   "cell_type": "code",
   "execution_count": 41,
   "metadata": {},
   "outputs": [],
   "source": [
    "import json\n",
    "\n",
    "with open(\"ppc_suba_comentarios.json\", \"w\") as f:\n",
    "    json.dump(info, f)"
   ]
  },
  {
   "cell_type": "code",
   "execution_count": 44,
   "metadata": {},
   "outputs": [
    {
     "name": "stdout",
     "output_type": "stream",
     "text": [
      "Collecting fasttext\n",
      "\u001b[?25l  Downloading https://files.pythonhosted.org/packages/10/61/2e01f1397ec533756c1d893c22d9d5ed3fce3a6e4af1976e0d86bb13ea97/fasttext-0.9.1.tar.gz (57kB)\n",
      "\u001b[K     |████████████████████████████████| 61kB 9.7MB/s  eta 0:00:01\n",
      "\u001b[?25hRequirement already satisfied: pybind11>=2.2 in /home/ingenieria/Escritorio/1234/lib/python3.7/site-packages (from fasttext) (2.4.3)\n",
      "Requirement already satisfied: setuptools>=0.7.0 in /home/ingenieria/Escritorio/1234/lib/python3.7/site-packages (from fasttext) (41.4.0)\n",
      "Requirement already satisfied: numpy in /home/ingenieria/Escritorio/1234/lib/python3.7/site-packages (from fasttext) (1.17.2)\n",
      "Building wheels for collected packages: fasttext\n",
      "  Building wheel for fasttext (setup.py) ... \u001b[?25ldone\n",
      "\u001b[?25h  Created wheel for fasttext: filename=fasttext-0.9.1-cp37-cp37m-linux_x86_64.whl size=2484307 sha256=3c05946b5b1146f389cd8cceed9442ebeff6a46e5d751a659ae72d409ab5ed91\n",
      "  Stored in directory: /home/ingenieria/.cache/pip/wheels/9f/f0/04/caa82c912aee89ce76358ff954f3f0729b7577c8ff23a292e3\n",
      "Successfully built fasttext\n",
      "Installing collected packages: fasttext\n",
      "Successfully installed fasttext-0.9.1\n"
     ]
    }
   ],
   "source": [
    "!pip install fasttext"
   ]
  },
  {
   "cell_type": "code",
   "execution_count": 45,
   "metadata": {},
   "outputs": [
    {
     "ename": "NameError",
     "evalue": "name 'comments' is not defined",
     "output_type": "error",
     "traceback": [
      "\u001b[0;31m---------------------------------------------------------------------------\u001b[0m",
      "\u001b[0;31mNameError\u001b[0m                                 Traceback (most recent call last)",
      "\u001b[0;32m<ipython-input-45-f910e4bbcdb9>\u001b[0m in \u001b[0;36m<module>\u001b[0;34m\u001b[0m\n\u001b[1;32m      1\u001b[0m \u001b[0;32mwith\u001b[0m \u001b[0mopen\u001b[0m\u001b[0;34m(\u001b[0m\u001b[0;34m\"archivo.txt\"\u001b[0m\u001b[0;34m,\u001b[0m \u001b[0;34m\"w\"\u001b[0m\u001b[0;34m)\u001b[0m \u001b[0;32mas\u001b[0m \u001b[0mf\u001b[0m\u001b[0;34m:\u001b[0m\u001b[0;34m\u001b[0m\u001b[0;34m\u001b[0m\u001b[0m\n\u001b[0;32m----> 2\u001b[0;31m     \u001b[0;32mfor\u001b[0m \u001b[0mc\u001b[0m \u001b[0;32min\u001b[0m \u001b[0mcomments\u001b[0m\u001b[0;34m[\u001b[0m\u001b[0;34m:\u001b[0m\u001b[0;36m10\u001b[0m\u001b[0;34m]\u001b[0m\u001b[0;34m:\u001b[0m\u001b[0;34m\u001b[0m\u001b[0;34m\u001b[0m\u001b[0m\n\u001b[0m\u001b[1;32m      3\u001b[0m         \u001b[0mf\u001b[0m\u001b[0;34m.\u001b[0m\u001b[0mwrite\u001b[0m\u001b[0;34m(\u001b[0m\u001b[0mc\u001b[0m\u001b[0;34m[\u001b[0m\u001b[0;34m'text_nopunct'\u001b[0m\u001b[0;34m]\u001b[0m\u001b[0;34m)\u001b[0m\u001b[0;34m\u001b[0m\u001b[0;34m\u001b[0m\u001b[0m\n\u001b[1;32m      4\u001b[0m         \u001b[0mf\u001b[0m\u001b[0;34m.\u001b[0m\u001b[0mwrite\u001b[0m\u001b[0;34m(\u001b[0m\u001b[0;34m\"\\n\"\u001b[0m\u001b[0;34m)\u001b[0m\u001b[0;34m\u001b[0m\u001b[0;34m\u001b[0m\u001b[0m\n",
      "\u001b[0;31mNameError\u001b[0m: name 'comments' is not defined"
     ]
    }
   ],
   "source": []
  }
 ],
 "metadata": {
  "kernelspec": {
   "display_name": "Python 3",
   "language": "python",
   "name": "python3"
  },
  "language_info": {
   "codemirror_mode": {
    "name": "ipython",
    "version": 3
   },
   "file_extension": ".py",
   "mimetype": "text/x-python",
   "name": "python",
   "nbconvert_exporter": "python",
   "pygments_lexer": "ipython3",
   "version": "3.7.4"
  }
 },
 "nbformat": 4,
 "nbformat_minor": 2
}
